{
  "cells": [
    {
      "cell_type": "markdown",
      "metadata": {
        "id": "Pi9CF0391ARI"
      },
      "source": [
        "# Writing actions as code snippets or JSON blobs\n",
        "\n",
        "This notebook is part of the [Hugging Face Agents Course](https://www.hf.co/learn/agents-course), a free Course from beginner to expert, where you learn to build Agents.\n",
        "\n",
        "![Agents course share](https://huggingface.co/datasets/agents-course/course-images/resolve/main/en/communication/share.png)"
      ]
    },
    {
      "cell_type": "markdown",
      "metadata": {
        "id": "9gsYky7F1GzT"
      },
      "source": [
        "## Let's install the dependencies and login to our HF account to access the Inference API\n",
        "\n",
        "If you haven't installed `smolagents` yet, you can do so by running the following command:"
      ]
    },
    {
      "cell_type": "markdown",
      "metadata": {
        "id": "cH-4W1GhYL4T"
      },
      "source": [
        "Let's also login to the Hugging Face Hub to have access to the Inference API."
      ]
    },
    {
      "cell_type": "code",
      "execution_count": 4,
      "metadata": {
        "id": "TFTc-ry70y1f"
      },
      "outputs": [
        {
          "data": {
            "text/plain": [
              "True"
            ]
          },
          "execution_count": 4,
          "metadata": {},
          "output_type": "execute_result"
        }
      ],
      "source": [
        "from dotenv import load_dotenv\n",
        "import os\n",
        "\n",
        "load_dotenv()"
      ]
    },
    {
      "cell_type": "code",
      "execution_count": null,
      "metadata": {},
      "outputs": [],
      "source": [
        "import os"
      ]
    },
    {
      "cell_type": "markdown",
      "metadata": {
        "id": "ekKxaZrd1HlB"
      },
      "source": [
        "## Selecting a Playlist for the Party Using `smolagents` and a `ToolCallingAgent`\n",
        "\n",
        "Let's revisit the previous example where Alfred started party preparations, but this time we'll use a `ToolCallingAgent` to highlight the difference. We'll build an agent that can search the web using DuckDuckGo, just like in our Code Agent example. The only difference is the agent type - the framework handles everything else:"
      ]
    },
    {
      "cell_type": "code",
      "execution_count": 2,
      "metadata": {
        "colab": {
          "base_uri": "https://localhost:8080/",
          "height": 1000
        },
        "id": "6IInDOUN01sP",
        "outputId": "e49f2360-d377-4ed8-b7ae-8da4a3e3757b"
      },
      "outputs": [
        {
          "name": "stderr",
          "output_type": "stream",
          "text": [
            "/Users/niteshkumarsharma/Desktop/Folder/AI/agent-orchestra/.venv/lib/python3.11/site-packages/tqdm/auto.py:21: TqdmWarning: IProgress not found. Please update jupyter and ipywidgets. See https://ipywidgets.readthedocs.io/en/stable/user_install.html\n",
            "  from .autonotebook import tqdm as notebook_tqdm\n"
          ]
        },
        {
          "data": {
            "text/html": [
              "<pre style=\"white-space:pre;overflow-x:auto;line-height:normal;font-family:Menlo,'DejaVu Sans Mono',consolas,'Courier New',monospace\"><span style=\"color: #d4b702; text-decoration-color: #d4b702\">╭──────────────────────────────────────────────────── </span><span style=\"color: #d4b702; text-decoration-color: #d4b702; font-weight: bold\">New run</span><span style=\"color: #d4b702; text-decoration-color: #d4b702\"> ────────────────────────────────────────────────────╮</span>\n",
              "<span style=\"color: #d4b702; text-decoration-color: #d4b702\">│</span>                                                                                                                 <span style=\"color: #d4b702; text-decoration-color: #d4b702\">│</span>\n",
              "<span style=\"color: #d4b702; text-decoration-color: #d4b702\">│</span> <span style=\"font-weight: bold\">Search for the best music recommendations for a party at the Wayne's mansion.</span>                                   <span style=\"color: #d4b702; text-decoration-color: #d4b702\">│</span>\n",
              "<span style=\"color: #d4b702; text-decoration-color: #d4b702\">│</span>                                                                                                                 <span style=\"color: #d4b702; text-decoration-color: #d4b702\">│</span>\n",
              "<span style=\"color: #d4b702; text-decoration-color: #d4b702\">╰─ HfApiModel - Qwen/Qwen2.5-Coder-32B-Instruct ──────────────────────────────────────────────────────────────────╯</span>\n",
              "</pre>\n"
            ],
            "text/plain": [
              "\u001b[38;2;212;183;2m╭─\u001b[0m\u001b[38;2;212;183;2m───────────────────────────────────────────────────\u001b[0m\u001b[38;2;212;183;2m \u001b[0m\u001b[1;38;2;212;183;2mNew run\u001b[0m\u001b[38;2;212;183;2m \u001b[0m\u001b[38;2;212;183;2m───────────────────────────────────────────────────\u001b[0m\u001b[38;2;212;183;2m─╮\u001b[0m\n",
              "\u001b[38;2;212;183;2m│\u001b[0m                                                                                                                 \u001b[38;2;212;183;2m│\u001b[0m\n",
              "\u001b[38;2;212;183;2m│\u001b[0m \u001b[1mSearch for the best music recommendations for a party at the Wayne's mansion.\u001b[0m                                   \u001b[38;2;212;183;2m│\u001b[0m\n",
              "\u001b[38;2;212;183;2m│\u001b[0m                                                                                                                 \u001b[38;2;212;183;2m│\u001b[0m\n",
              "\u001b[38;2;212;183;2m╰─\u001b[0m\u001b[38;2;212;183;2m HfApiModel - Qwen/Qwen2.5-Coder-32B-Instruct \u001b[0m\u001b[38;2;212;183;2m─────────────────────────────────────────────────────────────────\u001b[0m\u001b[38;2;212;183;2m─╯\u001b[0m\n"
            ]
          },
          "metadata": {},
          "output_type": "display_data"
        },
        {
          "data": {
            "text/html": [
              "<pre style=\"white-space:pre;overflow-x:auto;line-height:normal;font-family:Menlo,'DejaVu Sans Mono',consolas,'Courier New',monospace\"><span style=\"color: #d4b702; text-decoration-color: #d4b702\">━━━━━━━━━━━━━━━━━━━━━━━━━━━━━━━━━━━━━━━━━━━━━━━━━━━━━ </span><span style=\"font-weight: bold\">Step </span><span style=\"color: #008080; text-decoration-color: #008080; font-weight: bold\">1</span><span style=\"color: #d4b702; text-decoration-color: #d4b702\"> ━━━━━━━━━━━━━━━━━━━━━━━━━━━━━━━━━━━━━━━━━━━━━━━━━━━━━━</span>\n",
              "</pre>\n"
            ],
            "text/plain": [
              "\u001b[38;2;212;183;2m━━━━━━━━━━━━━━━━━━━━━━━━━━━━━━━━━━━━━━━━━━━━━━━━━━━━━ \u001b[0m\u001b[1mStep \u001b[0m\u001b[1;36m1\u001b[0m\u001b[38;2;212;183;2m ━━━━━━━━━━━━━━━━━━━━━━━━━━━━━━━━━━━━━━━━━━━━━━━━━━━━━━\u001b[0m\n"
            ]
          },
          "metadata": {},
          "output_type": "display_data"
        },
        {
          "data": {
            "text/html": [
              "<pre style=\"white-space:pre;overflow-x:auto;line-height:normal;font-family:Menlo,'DejaVu Sans Mono',consolas,'Courier New',monospace\">╭─────────────────────────────────────────────────────────────────────────────────────────────────────────────────╮\n",
              "│ Calling tool: 'web_search' with arguments: {'query': \"best music recommendations for a party at Wayne's         │\n",
              "│ mansion\"}                                                                                                       │\n",
              "╰─────────────────────────────────────────────────────────────────────────────────────────────────────────────────╯\n",
              "</pre>\n"
            ],
            "text/plain": [
              "╭─────────────────────────────────────────────────────────────────────────────────────────────────────────────────╮\n",
              "│ Calling tool: 'web_search' with arguments: {'query': \"best music recommendations for a party at Wayne's         │\n",
              "│ mansion\"}                                                                                                       │\n",
              "╰─────────────────────────────────────────────────────────────────────────────────────────────────────────────────╯\n"
            ]
          },
          "metadata": {},
          "output_type": "display_data"
        },
        {
          "data": {
            "text/html": [
              "<pre style=\"white-space:pre;overflow-x:auto;line-height:normal;font-family:Menlo,'DejaVu Sans Mono',consolas,'Courier New',monospace\">Observations: ## Search Results\n",
              "\n",
              "|The <span style=\"color: #008080; text-decoration-color: #008080; font-weight: bold\">75</span> Best Party Songs That Will Get Everyone Dancing - \n",
              "Gear4music<span style=\"font-weight: bold\">](</span><span style=\"color: #0000ff; text-decoration-color: #0000ff; text-decoration: underline\">https://www.gear4music.com/blog/best-party-songs/)</span>\n",
              "The best party songs <span style=\"color: #008080; text-decoration-color: #008080; font-weight: bold\">1</span>. <span style=\"color: #008000; text-decoration-color: #008000\">\"September\"</span> - Earth, Wind &amp; Fire <span style=\"font-weight: bold\">(</span><span style=\"color: #008080; text-decoration-color: #008080; font-weight: bold\">1978</span><span style=\"font-weight: bold\">)</span> Quite possibly the best party song. An infectious \n",
              "mix of funk and soul, <span style=\"color: #008000; text-decoration-color: #008000\">\"September\"</span> is celebrated for its upbeat melody and <span style=\"color: #008000; text-decoration-color: #008000\">\"ba-dee-ya\"</span> chorus, making it a timeless \n",
              "dance favorite.\n",
              "\n",
              "|<span style=\"color: #008080; text-decoration-color: #008080; font-weight: bold\">200</span> Classic House Party Songs Everyone Knows | The Best <span style=\"color: #808000; text-decoration-color: #808000\">...</span> - \n",
              "iSpyTunes<span style=\"font-weight: bold\">](</span><span style=\"color: #0000ff; text-decoration-color: #0000ff; text-decoration: underline\">https://www.ispytunes.com/post/house-party-songs)</span>\n",
              "\" Branded merchandise adds flair to any occasion, just like the perfect playlist. <span style=\"color: #008080; text-decoration-color: #008080; font-weight: bold\">200</span> classic house party songs \n",
              "everyone knows set the mood, bringing energy to every celebration. The best popular party hits keep guests dancing,\n",
              "creating unforgettable moments. From throwback anthems to modern beats, a great selection ensures nonstop fun.\n",
              "\n",
              "|<span style=\"color: #008080; text-decoration-color: #008080; font-weight: bold\">50</span> Songs on Every Event Planner's Playlist - \n",
              "Eventbrite<span style=\"font-weight: bold\">](</span><span style=\"color: #0000ff; text-decoration-color: #0000ff; text-decoration: underline\">https://www.eventbrite.com/blog/event-planning-playlist-ds00/)</span>\n",
              "Music sets the mood and provides the soundtrack <span style=\"font-weight: bold\">(</span>literally<span style=\"font-weight: bold\">)</span> for a memorable and exciting time. While the right \n",
              "songs can enhance the experience, the wrong event music can throw off the vibe. For example, fast-paced songs \n",
              "probably aren't the best fit for a formal gala. And smooth jazz is likely to lull your guests at a motivational \n",
              "conference.\n",
              "\n",
              "|<span style=\"color: #008080; text-decoration-color: #008080; font-weight: bold\">40</span> Best Party Songs | Songs To Dance To, Ranked By Our Editors - Time \n",
              "Out<span style=\"font-weight: bold\">](</span><span style=\"color: #0000ff; text-decoration-color: #0000ff; text-decoration: underline\">https://www.timeout.com/music/best-party-songs)</span>\n",
              "The <span style=\"color: #008080; text-decoration-color: #008080; font-weight: bold\">40</span> best party songs ever made. It's party time guys - don your dancing shoes and have your speaker at the \n",
              "ready. Thursday <span style=\"color: #008080; text-decoration-color: #008080; font-weight: bold\">13</span> February <span style=\"color: #008080; text-decoration-color: #008080; font-weight: bold\">2025</span>. Share. Copy Link. Facebook Twitter Pinterest <span style=\"color: #808000; text-decoration-color: #808000\">...</span>\n",
              "\n",
              "|Similar Songs Finder | Spotify Playlist Generator - Chosic<span style=\"font-weight: bold\">](</span><span style=\"color: #0000ff; text-decoration-color: #0000ff; text-decoration: underline\">https://www.chosic.com/playlist-generator/)</span>\n",
              "Need to find similar songs to a song you like? To music you love? A playlist created for you in seconds! With \n",
              "Spotify Playlist Generator online tool, create awesome playlists in seconds, featuring similar songs to those you \n",
              "love. Whether by songs, artists, genres, moods, or based on a playlist, just start with what you have in mind, and \n",
              "it will provide you with plenty of song recommendations <span style=\"color: #808000; text-decoration-color: #808000\">...</span>\n",
              "\n",
              "|you're studying at night in bruce wayne's mansion - YouTube<span style=\"font-weight: bold\">](</span><span style=\"color: #0000ff; text-decoration-color: #0000ff; text-decoration: underline\">https://www.youtube.com/watch?v=i4vjSoUH8bE)</span>\n",
              "you're studying at night in bruce wayne's mansion<span style=\"color: #808000; text-decoration-color: #808000\">...</span> hopefully alfred's making you coffee soonlike and subscribe \n",
              "for weekly dark academia study music uploads<span style=\"color: #808000; text-decoration-color: #808000\">...</span>\n",
              "\n",
              "|The Best Songs With Mansion in the Title - \n",
              "Ranker<span style=\"font-weight: bold\">](</span><span style=\"color: #0000ff; text-decoration-color: #0000ff; text-decoration: underline\">https://www.ranker.com/list/the-best-songs-with-mansion-in-the-title/ranker-music)</span>\n",
              "This list ranks the best songs with mansion in the name, regardless of genre. Most of the tracks listed here are \n",
              "songs about mansions, but almost all of them have different lyrical interpretations, despite the commonality of \n",
              "having the word mansion in the title. This ranked poll includes songs like <span style=\"color: #008000; text-decoration-color: #008000\">\"Mansions of Los Feliz\"</span> by Eels, and \n",
              "\"Thugz <span style=\"color: #808000; text-decoration-color: #808000\">...</span>\n",
              "\n",
              "|Top <span style=\"color: #008080; text-decoration-color: #008080; font-weight: bold\">10</span> Best Music Albums For Your Dinner Party - domino<span style=\"font-weight: bold\">](</span><span style=\"color: #0000ff; text-decoration-color: #0000ff; text-decoration: underline\">https://www.domino.com/content/best-dinner-party-music/)</span>\n",
              "But only the most skilled of hosts know that the secret to mastering mood is music. Read on for the best dinner \n",
              "party albums you could <span style=\"font-weight: bold\">(</span>should<span style=\"font-weight: bold\">)</span> play at your next gathering. Green Onions, Booker T. &amp; the MG's. This classic Stax \n",
              "record features only instruments, no vocals, leaving plenty of room for chatter. Don't be surprised, though, if you\n",
              "<span style=\"color: #808000; text-decoration-color: #808000\">...</span>\n",
              "\n",
              "|Ranking Every Song on the Wayne's World \n",
              "Soundtrack<span style=\"font-weight: bold\">](</span><span style=\"color: #0000ff; text-decoration-color: #0000ff; text-decoration: underline\">https://www.pastemagazine.com/music/waynes-world/ranking-every-song-on-the-waynes-world-soundtrack)</span>\n",
              "Then she won <span style=\"color: #008000; text-decoration-color: #008000\">\"Best Hawaiian Music Album\"</span> Grammy awards for <span style=\"color: #008080; text-decoration-color: #008080; font-weight: bold\">2009</span>'s <span style=\"color: #008000; text-decoration-color: #008000\">'Ikena and 2011'</span>s Huana Ke Aloha. <span style=\"color: #008080; text-decoration-color: #008080; font-weight: bold\">6</span>. <span style=\"color: #008000; text-decoration-color: #008000\">\"Loud Love,\"</span>\n",
              "Soundgarden <span style=\"color: #808000; text-decoration-color: #808000\">...</span> Not much has to be said about why this is the best <span style=\"color: #808000; text-decoration-color: #808000\">...</span>\n",
              "\n",
              "|One Wayne G's Best Songs: A Playlist for Your Next \n",
              "Party!<span style=\"font-weight: bold\">](</span><span style=\"color: #0000ff; text-decoration-color: #0000ff; text-decoration: underline\">https://musicalinstrumentpro.com/one-wayne-gs-best-songs/)</span>\n",
              "The album features an impressive <span style=\"color: #008080; text-decoration-color: #008080; font-weight: bold\">199</span> songs, showcasing DeMarco's versatility as a musician. While some may argue \n",
              "that such a large collection of tracks could be overwhelming, there are a few standout songs that are worth \n",
              "listening to. For those who are new to DeMarco's music, <span style=\"color: #008000; text-decoration-color: #008000\">\"One Wayne G\"</span> is an excellent introduction to his style.\n",
              "</pre>\n"
            ],
            "text/plain": [
              "Observations: ## Search Results\n",
              "\n",
              "|The \u001b[1;36m75\u001b[0m Best Party Songs That Will Get Everyone Dancing - \n",
              "Gear4music\u001b[1m]\u001b[0m\u001b[1m(\u001b[0m\u001b[4;94mhttps://www.gear4music.com/blog/best-party-songs/\u001b[0m\u001b[4;94m)\u001b[0m\n",
              "The best party songs \u001b[1;36m1\u001b[0m. \u001b[32m\"September\"\u001b[0m - Earth, Wind & Fire \u001b[1m(\u001b[0m\u001b[1;36m1978\u001b[0m\u001b[1m)\u001b[0m Quite possibly the best party song. An infectious \n",
              "mix of funk and soul, \u001b[32m\"September\"\u001b[0m is celebrated for its upbeat melody and \u001b[32m\"ba-dee-ya\"\u001b[0m chorus, making it a timeless \n",
              "dance favorite.\n",
              "\n",
              "|\u001b[1;36m200\u001b[0m Classic House Party Songs Everyone Knows | The Best \u001b[33m...\u001b[0m - \n",
              "iSpyTunes\u001b[1m]\u001b[0m\u001b[1m(\u001b[0m\u001b[4;94mhttps://www.ispytunes.com/post/house-party-songs\u001b[0m\u001b[4;94m)\u001b[0m\n",
              "\" Branded merchandise adds flair to any occasion, just like the perfect playlist. \u001b[1;36m200\u001b[0m classic house party songs \n",
              "everyone knows set the mood, bringing energy to every celebration. The best popular party hits keep guests dancing,\n",
              "creating unforgettable moments. From throwback anthems to modern beats, a great selection ensures nonstop fun.\n",
              "\n",
              "|\u001b[1;36m50\u001b[0m Songs on Every Event Planner's Playlist - \n",
              "Eventbrite\u001b[1m]\u001b[0m\u001b[1m(\u001b[0m\u001b[4;94mhttps://www.eventbrite.com/blog/event-planning-playlist-ds00/\u001b[0m\u001b[4;94m)\u001b[0m\n",
              "Music sets the mood and provides the soundtrack \u001b[1m(\u001b[0mliterally\u001b[1m)\u001b[0m for a memorable and exciting time. While the right \n",
              "songs can enhance the experience, the wrong event music can throw off the vibe. For example, fast-paced songs \n",
              "probably aren't the best fit for a formal gala. And smooth jazz is likely to lull your guests at a motivational \n",
              "conference.\n",
              "\n",
              "|\u001b[1;36m40\u001b[0m Best Party Songs | Songs To Dance To, Ranked By Our Editors - Time \n",
              "Out\u001b[1m]\u001b[0m\u001b[1m(\u001b[0m\u001b[4;94mhttps://www.timeout.com/music/best-party-songs\u001b[0m\u001b[4;94m)\u001b[0m\n",
              "The \u001b[1;36m40\u001b[0m best party songs ever made. It's party time guys - don your dancing shoes and have your speaker at the \n",
              "ready. Thursday \u001b[1;36m13\u001b[0m February \u001b[1;36m2025\u001b[0m. Share. Copy Link. Facebook Twitter Pinterest \u001b[33m...\u001b[0m\n",
              "\n",
              "|Similar Songs Finder | Spotify Playlist Generator - Chosic\u001b[1m]\u001b[0m\u001b[1m(\u001b[0m\u001b[4;94mhttps://www.chosic.com/playlist-generator/\u001b[0m\u001b[4;94m)\u001b[0m\n",
              "Need to find similar songs to a song you like? To music you love? A playlist created for you in seconds! With \n",
              "Spotify Playlist Generator online tool, create awesome playlists in seconds, featuring similar songs to those you \n",
              "love. Whether by songs, artists, genres, moods, or based on a playlist, just start with what you have in mind, and \n",
              "it will provide you with plenty of song recommendations \u001b[33m...\u001b[0m\n",
              "\n",
              "|you're studying at night in bruce wayne's mansion - YouTube\u001b[1m]\u001b[0m\u001b[1m(\u001b[0m\u001b[4;94mhttps://www.youtube.com/watch?\u001b[0m\u001b[4;94mv\u001b[0m\u001b[4;94m=\u001b[0m\u001b[4;94mi4vjSoUH8bE\u001b[0m\u001b[4;94m)\u001b[0m\n",
              "you're studying at night in bruce wayne's mansion\u001b[33m...\u001b[0m hopefully alfred's making you coffee soonlike and subscribe \n",
              "for weekly dark academia study music uploads\u001b[33m...\u001b[0m\n",
              "\n",
              "|The Best Songs With Mansion in the Title - \n",
              "Ranker\u001b[1m]\u001b[0m\u001b[1m(\u001b[0m\u001b[4;94mhttps://www.ranker.com/list/the-best-songs-with-mansion-in-the-title/ranker-music\u001b[0m\u001b[4;94m)\u001b[0m\n",
              "This list ranks the best songs with mansion in the name, regardless of genre. Most of the tracks listed here are \n",
              "songs about mansions, but almost all of them have different lyrical interpretations, despite the commonality of \n",
              "having the word mansion in the title. This ranked poll includes songs like \u001b[32m\"Mansions of Los Feliz\"\u001b[0m by Eels, and \n",
              "\"Thugz \u001b[33m...\u001b[0m\n",
              "\n",
              "|Top \u001b[1;36m10\u001b[0m Best Music Albums For Your Dinner Party - domino\u001b[1m]\u001b[0m\u001b[1m(\u001b[0m\u001b[4;94mhttps://www.domino.com/content/best-dinner-party-music/\u001b[0m\u001b[4;94m)\u001b[0m\n",
              "But only the most skilled of hosts know that the secret to mastering mood is music. Read on for the best dinner \n",
              "party albums you could \u001b[1m(\u001b[0mshould\u001b[1m)\u001b[0m play at your next gathering. Green Onions, Booker T. & the MG's. This classic Stax \n",
              "record features only instruments, no vocals, leaving plenty of room for chatter. Don't be surprised, though, if you\n",
              "\u001b[33m...\u001b[0m\n",
              "\n",
              "|Ranking Every Song on the Wayne's World \n",
              "Soundtrack\u001b[1m]\u001b[0m\u001b[1m(\u001b[0m\u001b[4;94mhttps://www.pastemagazine.com/music/waynes-world/ranking-every-song-on-the-waynes-world-soundtrack\u001b[0m\u001b[4;94m)\u001b[0m\n",
              "Then she won \u001b[32m\"Best Hawaiian Music Album\"\u001b[0m Grammy awards for \u001b[1;36m2009\u001b[0m's \u001b[32m'Ikena and 2011'\u001b[0ms Huana Ke Aloha. \u001b[1;36m6\u001b[0m. \u001b[32m\"Loud Love,\"\u001b[0m\n",
              "Soundgarden \u001b[33m...\u001b[0m Not much has to be said about why this is the best \u001b[33m...\u001b[0m\n",
              "\n",
              "|One Wayne G's Best Songs: A Playlist for Your Next \n",
              "Party!\u001b[1m]\u001b[0m\u001b[1m(\u001b[0m\u001b[4;94mhttps://musicalinstrumentpro.com/one-wayne-gs-best-songs/\u001b[0m\u001b[4;94m)\u001b[0m\n",
              "The album features an impressive \u001b[1;36m199\u001b[0m songs, showcasing DeMarco's versatility as a musician. While some may argue \n",
              "that such a large collection of tracks could be overwhelming, there are a few standout songs that are worth \n",
              "listening to. For those who are new to DeMarco's music, \u001b[32m\"One Wayne G\"\u001b[0m is an excellent introduction to his style.\n"
            ]
          },
          "metadata": {},
          "output_type": "display_data"
        },
        {
          "data": {
            "text/html": [
              "<pre style=\"white-space:pre;overflow-x:auto;line-height:normal;font-family:Menlo,'DejaVu Sans Mono',consolas,'Courier New',monospace\"><span style=\"color: #7f7f7f; text-decoration-color: #7f7f7f\">[Step 0: Duration 1.26 seconds| Input tokens: 1,174 | Output tokens: 26]</span>\n",
              "</pre>\n"
            ],
            "text/plain": [
              "\u001b[2m[Step 0: Duration 1.26 seconds| Input tokens: 1,174 | Output tokens: 26]\u001b[0m\n"
            ]
          },
          "metadata": {},
          "output_type": "display_data"
        },
        {
          "data": {
            "text/html": [
              "<pre style=\"white-space:pre;overflow-x:auto;line-height:normal;font-family:Menlo,'DejaVu Sans Mono',consolas,'Courier New',monospace\"><span style=\"color: #d4b702; text-decoration-color: #d4b702\">━━━━━━━━━━━━━━━━━━━━━━━━━━━━━━━━━━━━━━━━━━━━━━━━━━━━━ </span><span style=\"font-weight: bold\">Step </span><span style=\"color: #008080; text-decoration-color: #008080; font-weight: bold\">2</span><span style=\"color: #d4b702; text-decoration-color: #d4b702\"> ━━━━━━━━━━━━━━━━━━━━━━━━━━━━━━━━━━━━━━━━━━━━━━━━━━━━━━</span>\n",
              "</pre>\n"
            ],
            "text/plain": [
              "\u001b[38;2;212;183;2m━━━━━━━━━━━━━━━━━━━━━━━━━━━━━━━━━━━━━━━━━━━━━━━━━━━━━ \u001b[0m\u001b[1mStep \u001b[0m\u001b[1;36m2\u001b[0m\u001b[38;2;212;183;2m ━━━━━━━━━━━━━━━━━━━━━━━━━━━━━━━━━━━━━━━━━━━━━━━━━━━━━━\u001b[0m\n"
            ]
          },
          "metadata": {},
          "output_type": "display_data"
        },
        {
          "data": {
            "text/html": [
              "<pre style=\"white-space:pre;overflow-x:auto;line-height:normal;font-family:Menlo,'DejaVu Sans Mono',consolas,'Courier New',monospace\">╭─────────────────────────────────────────────────────────────────────────────────────────────────────────────────╮\n",
              "│ Calling tool: 'web_search' with arguments: {'query': 'Best party songs suitable for a mansion setting with a    │\n",
              "│ focus on high-energy and thematic music'}                                                                       │\n",
              "╰─────────────────────────────────────────────────────────────────────────────────────────────────────────────────╯\n",
              "</pre>\n"
            ],
            "text/plain": [
              "╭─────────────────────────────────────────────────────────────────────────────────────────────────────────────────╮\n",
              "│ Calling tool: 'web_search' with arguments: {'query': 'Best party songs suitable for a mansion setting with a    │\n",
              "│ focus on high-energy and thematic music'}                                                                       │\n",
              "╰─────────────────────────────────────────────────────────────────────────────────────────────────────────────────╯\n"
            ]
          },
          "metadata": {},
          "output_type": "display_data"
        },
        {
          "data": {
            "text/html": [
              "<pre style=\"white-space:pre;overflow-x:auto;line-height:normal;font-family:Menlo,'DejaVu Sans Mono',consolas,'Courier New',monospace\">Observations: ## Search Results\n",
              "\n",
              "|Best Party Playlist: <span style=\"color: #008080; text-decoration-color: #008080; font-weight: bold\">25</span> High-Energy Songs for the Ultimate \n",
              "Celebration<span style=\"font-weight: bold\">](</span><span style=\"color: #0000ff; text-decoration-color: #0000ff; text-decoration: underline\">https://audioassemble.com/best-party-playlist/)</span>\n",
              "Whether you're planning a weekend house party, a birthday bash, or an impromptu dance-off, every celebration \n",
              "deserves the perfect soundtrack. Our selection of <span style=\"color: #008080; text-decoration-color: #008080; font-weight: bold\">25</span> high-energy songs are tried-and-true crowd pleasers that \n",
              "seamlessly blend different genres and eras, ensuring there's something for everyone.\n",
              "\n",
              "|<span style=\"color: #008080; text-decoration-color: #008080; font-weight: bold\">200</span> Classic House Party Songs Everyone Knows | The Best <span style=\"color: #808000; text-decoration-color: #808000\">...</span> - \n",
              "iSpyTunes<span style=\"font-weight: bold\">](</span><span style=\"color: #0000ff; text-decoration-color: #0000ff; text-decoration: underline\">https://www.ispytunes.com/post/house-party-songs)</span>\n",
              "\" Branded merchandise adds flair to any occasion, just like the perfect playlist. <span style=\"color: #008080; text-decoration-color: #008080; font-weight: bold\">200</span> classic house party songs \n",
              "everyone knows set the mood, bringing energy to every celebration. The best popular party hits keep guests dancing,\n",
              "creating unforgettable moments. From throwback anthems to modern beats, a great selection ensures nonstop fun.\n",
              "\n",
              "|<span style=\"color: #008080; text-decoration-color: #008080; font-weight: bold\">45</span> Songs That Get Your Event Guests on the Dance Floor Every \n",
              "Time<span style=\"font-weight: bold\">](</span><span style=\"color: #0000ff; text-decoration-color: #0000ff; text-decoration: underline\">https://hub.theeventplannerexpo.com/entertainment/35-songs-that-get-your-event-guests-on-the-dance-floor-ever</span>\n",
              "<span style=\"color: #0000ff; text-decoration-color: #0000ff; text-decoration: underline\">y-time)</span>\n",
              "You'll know your client's event best, including music genre preferences and styles. But these songs are wildly \n",
              "popular among many generations and are always great to have on standby should your dance guests need a boost. Party\n",
              "Songs <span style=\"color: #008000; text-decoration-color: #008000\">\"Flowers\"</span> by Miley Cyrus <span style=\"font-weight: bold\">(</span><span style=\"color: #008080; text-decoration-color: #008080; font-weight: bold\">2023</span><span style=\"font-weight: bold\">)</span> <span style=\"color: #008000; text-decoration-color: #008000\">\"TQG\"</span> by KAROL G &amp; Shakira <span style=\"font-weight: bold\">(</span><span style=\"color: #008080; text-decoration-color: #008080; font-weight: bold\">2023</span><span style=\"font-weight: bold\">)</span> <span style=\"color: #008000; text-decoration-color: #008000\">\"TRUSTFALL\"</span> by P!nk <span style=\"font-weight: bold\">(</span><span style=\"color: #008080; text-decoration-color: #008080; font-weight: bold\">2023</span><span style=\"font-weight: bold\">)</span>\n",
              "\n",
              "|<span style=\"color: #008080; text-decoration-color: #008080; font-weight: bold\">50</span>+ Best Songs For Your Next Party in <span style=\"color: #008080; text-decoration-color: #008080; font-weight: bold\">2025</span> - Aleka's \n",
              "Get-Together<span style=\"font-weight: bold\">](</span><span style=\"color: #0000ff; text-decoration-color: #0000ff; text-decoration: underline\">https://alekasgettogether.com/top-songs-for-any-party/)</span>\n",
              "Whether you're planning a How To Host The Best Party At Home or just want to liven up your playlist, we've got you \n",
              "covered with <span style=\"color: #008080; text-decoration-color: #008080; font-weight: bold\">100</span> crowd-pleasing tunes. From timeless classics to modern hits, these songs are guaranteed to keep \n",
              "the energy high and the good times rolling all night long. <span style=\"color: #008080; text-decoration-color: #008080; font-weight: bold\">50</span> Popular Party Songs. Uptown Funk - Mark Ronson ft <span style=\"color: #808000; text-decoration-color: #808000\">...</span>\n",
              "\n",
              "|The <span style=\"color: #008080; text-decoration-color: #008080; font-weight: bold\">75</span> Best Party Songs That Will Get Everyone Dancing - \n",
              "Gear4music<span style=\"font-weight: bold\">](</span><span style=\"color: #0000ff; text-decoration-color: #0000ff; text-decoration: underline\">https://www.gear4music.com/blog/best-party-songs/)</span>\n",
              "The best party songs <span style=\"color: #008080; text-decoration-color: #008080; font-weight: bold\">1</span>. <span style=\"color: #008000; text-decoration-color: #008000\">\"September\"</span> - Earth, Wind &amp; Fire <span style=\"font-weight: bold\">(</span><span style=\"color: #008080; text-decoration-color: #008080; font-weight: bold\">1978</span><span style=\"font-weight: bold\">)</span> Quite possibly the best party song. An infectious \n",
              "mix of funk and soul, <span style=\"color: #008000; text-decoration-color: #008000\">\"September\"</span> is celebrated for its upbeat melody and <span style=\"color: #008000; text-decoration-color: #008000\">\"ba-dee-ya\"</span> chorus, making it a timeless \n",
              "dance favorite.\n",
              "\n",
              "|<span style=\"color: #008080; text-decoration-color: #008080; font-weight: bold\">50</span> Songs on Every Event Planner's Playlist - \n",
              "Eventbrite<span style=\"font-weight: bold\">](</span><span style=\"color: #0000ff; text-decoration-color: #0000ff; text-decoration: underline\">https://www.eventbrite.com/blog/event-planning-playlist-ds00/)</span>\n",
              "For example, fast-paced songs probably aren't the best fit for a formal gala. And smooth jazz is likely to lull \n",
              "your guests at a motivational conference. That's why it's crucial to think about the tone you want to set and \n",
              "choose a playlist that embodies it. We've compiled a list of possible tunes to help you pick the best event songs.\n",
              "\n",
              "|Best Songs To Party: DJ's Ultimate Party Songs Playlist - \n",
              "Top40Weekly.com<span style=\"font-weight: bold\">](</span><span style=\"color: #0000ff; text-decoration-color: #0000ff; text-decoration: underline\">https://top40weekly.com/best-songs-to-party/)</span>\n",
              "Don't forget the music! We've compiled the best songs to party that are sure to get everyone in the mood to dance \n",
              "and have a good time. <span style=\"color: #808000; text-decoration-color: #808000\">...</span> Icona Pop's <span style=\"color: #008000; text-decoration-color: #008000\">\"I Love It\"</span> featuring Charli X.C.X. is the ultimate party starter. The \n",
              "track's high-energy production and empowering lyrics inspire listeners to let go of their inhibitions and embrace \n",
              "<span style=\"color: #808000; text-decoration-color: #808000\">...</span>\n",
              "\n",
              "|<span style=\"color: #008080; text-decoration-color: #008080; font-weight: bold\">100</span> Best Party Songs: The Ultimate Party Playlist<span style=\"font-weight: bold\">](</span><span style=\"color: #0000ff; text-decoration-color: #0000ff; text-decoration: underline\">https://audiocaptain.com/best-party-songs/)</span>\n",
              "Here are the <span style=\"color: #008080; text-decoration-color: #008080; font-weight: bold\">100</span> best party songs of all time that you can use to create your ultimate party playlist. Learning; \n",
              "<span style=\"color: #808000; text-decoration-color: #808000\">...</span> And since our focus is on dancing and party songs, we settled for C+C Music Factory's smash, <span style=\"color: #008000; text-decoration-color: #008000\">\"Gonna Make You </span>\n",
              "<span style=\"color: #008000; text-decoration-color: #008000\">Sweat.\"</span> <span style=\"color: #808000; text-decoration-color: #808000\">...</span> Another fallout of playing nothing but high-intensity music is the crowd getting burned out from the \n",
              "<span style=\"color: #808000; text-decoration-color: #808000\">...</span>\n",
              "\n",
              "|<span style=\"color: #008080; text-decoration-color: #008080; font-weight: bold\">35</span> Best Upbeat Clean Songs That Make Every Party Come Alive <span style=\"font-weight: bold\">(</span><span style=\"color: #008080; text-decoration-color: #008080; font-weight: bold\">2024</span> \n",
              "<span style=\"color: #808000; text-decoration-color: #808000\">...</span><span style=\"font-weight: bold\">](</span><span style=\"color: #0000ff; text-decoration-color: #0000ff; text-decoration: underline\">https://musicfunhill.com/pop-music/35-best-upbeat-clean-songs-that-make-every-party-come-alive-2024-playlist/)</span>\n",
              "The technical aspects balance with thematic elements to create songs suitable for diverse settings from school \n",
              "dances to family gatherings. Professional producers ensure these tracks maintain high-quality standards while \n",
              "staying appropriate for all audiences. <span style=\"color: #808000; text-decoration-color: #808000\">...</span> Delivers high-energy rock songs like <span style=\"color: #008000; text-decoration-color: #008000\">\"\"</span>Thunder\"\" with clean messaging \n",
              "<span style=\"color: #808000; text-decoration-color: #808000\">...</span>\n",
              "\n",
              "|<span style=\"color: #008080; text-decoration-color: #008080; font-weight: bold\">40</span> Best Party Songs | Songs To Dance To, Ranked By Our Editors - Time \n",
              "Out<span style=\"font-weight: bold\">](</span><span style=\"color: #0000ff; text-decoration-color: #0000ff; text-decoration: underline\">https://www.timeout.com/music/best-party-songs)</span>\n",
              "The best is when you go for the extended version, and find yourself in the midst of the intro for about <span style=\"color: #008080; text-decoration-color: #008080; font-weight: bold\">11</span> minutes.\n",
              "But whichever version you go for, this is the party song, in every way. She <span style=\"color: #808000; text-decoration-color: #808000\">...</span>\n",
              "</pre>\n"
            ],
            "text/plain": [
              "Observations: ## Search Results\n",
              "\n",
              "|Best Party Playlist: \u001b[1;36m25\u001b[0m High-Energy Songs for the Ultimate \n",
              "Celebration\u001b[1m]\u001b[0m\u001b[1m(\u001b[0m\u001b[4;94mhttps://audioassemble.com/best-party-playlist/\u001b[0m\u001b[4;94m)\u001b[0m\n",
              "Whether you're planning a weekend house party, a birthday bash, or an impromptu dance-off, every celebration \n",
              "deserves the perfect soundtrack. Our selection of \u001b[1;36m25\u001b[0m high-energy songs are tried-and-true crowd pleasers that \n",
              "seamlessly blend different genres and eras, ensuring there's something for everyone.\n",
              "\n",
              "|\u001b[1;36m200\u001b[0m Classic House Party Songs Everyone Knows | The Best \u001b[33m...\u001b[0m - \n",
              "iSpyTunes\u001b[1m]\u001b[0m\u001b[1m(\u001b[0m\u001b[4;94mhttps://www.ispytunes.com/post/house-party-songs\u001b[0m\u001b[4;94m)\u001b[0m\n",
              "\" Branded merchandise adds flair to any occasion, just like the perfect playlist. \u001b[1;36m200\u001b[0m classic house party songs \n",
              "everyone knows set the mood, bringing energy to every celebration. The best popular party hits keep guests dancing,\n",
              "creating unforgettable moments. From throwback anthems to modern beats, a great selection ensures nonstop fun.\n",
              "\n",
              "|\u001b[1;36m45\u001b[0m Songs That Get Your Event Guests on the Dance Floor Every \n",
              "Time\u001b[1m]\u001b[0m\u001b[1m(\u001b[0m\u001b[4;94mhttps://hub.theeventplannerexpo.com/entertainment/35-songs-that-get-your-event-guests-on-the-dance-floor-ever\u001b[0m\n",
              "\u001b[4;94my-time\u001b[0m\u001b[4;94m)\u001b[0m\n",
              "You'll know your client's event best, including music genre preferences and styles. But these songs are wildly \n",
              "popular among many generations and are always great to have on standby should your dance guests need a boost. Party\n",
              "Songs \u001b[32m\"Flowers\"\u001b[0m by Miley Cyrus \u001b[1m(\u001b[0m\u001b[1;36m2023\u001b[0m\u001b[1m)\u001b[0m \u001b[32m\"TQG\"\u001b[0m by KAROL G & Shakira \u001b[1m(\u001b[0m\u001b[1;36m2023\u001b[0m\u001b[1m)\u001b[0m \u001b[32m\"TRUSTFALL\"\u001b[0m by P!nk \u001b[1m(\u001b[0m\u001b[1;36m2023\u001b[0m\u001b[1m)\u001b[0m\n",
              "\n",
              "|\u001b[1;36m50\u001b[0m+ Best Songs For Your Next Party in \u001b[1;36m2025\u001b[0m - Aleka's \n",
              "Get-Together\u001b[1m]\u001b[0m\u001b[1m(\u001b[0m\u001b[4;94mhttps://alekasgettogether.com/top-songs-for-any-party/\u001b[0m\u001b[4;94m)\u001b[0m\n",
              "Whether you're planning a How To Host The Best Party At Home or just want to liven up your playlist, we've got you \n",
              "covered with \u001b[1;36m100\u001b[0m crowd-pleasing tunes. From timeless classics to modern hits, these songs are guaranteed to keep \n",
              "the energy high and the good times rolling all night long. \u001b[1;36m50\u001b[0m Popular Party Songs. Uptown Funk - Mark Ronson ft \u001b[33m...\u001b[0m\n",
              "\n",
              "|The \u001b[1;36m75\u001b[0m Best Party Songs That Will Get Everyone Dancing - \n",
              "Gear4music\u001b[1m]\u001b[0m\u001b[1m(\u001b[0m\u001b[4;94mhttps://www.gear4music.com/blog/best-party-songs/\u001b[0m\u001b[4;94m)\u001b[0m\n",
              "The best party songs \u001b[1;36m1\u001b[0m. \u001b[32m\"September\"\u001b[0m - Earth, Wind & Fire \u001b[1m(\u001b[0m\u001b[1;36m1978\u001b[0m\u001b[1m)\u001b[0m Quite possibly the best party song. An infectious \n",
              "mix of funk and soul, \u001b[32m\"September\"\u001b[0m is celebrated for its upbeat melody and \u001b[32m\"ba-dee-ya\"\u001b[0m chorus, making it a timeless \n",
              "dance favorite.\n",
              "\n",
              "|\u001b[1;36m50\u001b[0m Songs on Every Event Planner's Playlist - \n",
              "Eventbrite\u001b[1m]\u001b[0m\u001b[1m(\u001b[0m\u001b[4;94mhttps://www.eventbrite.com/blog/event-planning-playlist-ds00/\u001b[0m\u001b[4;94m)\u001b[0m\n",
              "For example, fast-paced songs probably aren't the best fit for a formal gala. And smooth jazz is likely to lull \n",
              "your guests at a motivational conference. That's why it's crucial to think about the tone you want to set and \n",
              "choose a playlist that embodies it. We've compiled a list of possible tunes to help you pick the best event songs.\n",
              "\n",
              "|Best Songs To Party: DJ's Ultimate Party Songs Playlist - \n",
              "Top40Weekly.com\u001b[1m]\u001b[0m\u001b[1m(\u001b[0m\u001b[4;94mhttps://top40weekly.com/best-songs-to-party/\u001b[0m\u001b[4;94m)\u001b[0m\n",
              "Don't forget the music! We've compiled the best songs to party that are sure to get everyone in the mood to dance \n",
              "and have a good time. \u001b[33m...\u001b[0m Icona Pop's \u001b[32m\"I Love It\"\u001b[0m featuring Charli X.C.X. is the ultimate party starter. The \n",
              "track's high-energy production and empowering lyrics inspire listeners to let go of their inhibitions and embrace \n",
              "\u001b[33m...\u001b[0m\n",
              "\n",
              "|\u001b[1;36m100\u001b[0m Best Party Songs: The Ultimate Party Playlist\u001b[1m]\u001b[0m\u001b[1m(\u001b[0m\u001b[4;94mhttps://audiocaptain.com/best-party-songs/\u001b[0m\u001b[4;94m)\u001b[0m\n",
              "Here are the \u001b[1;36m100\u001b[0m best party songs of all time that you can use to create your ultimate party playlist. Learning; \n",
              "\u001b[33m...\u001b[0m And since our focus is on dancing and party songs, we settled for C+C Music Factory's smash, \u001b[32m\"Gonna Make You \u001b[0m\n",
              "\u001b[32mSweat.\"\u001b[0m \u001b[33m...\u001b[0m Another fallout of playing nothing but high-intensity music is the crowd getting burned out from the \n",
              "\u001b[33m...\u001b[0m\n",
              "\n",
              "|\u001b[1;36m35\u001b[0m Best Upbeat Clean Songs That Make Every Party Come Alive \u001b[1m(\u001b[0m\u001b[1;36m2024\u001b[0m \n",
              "\u001b[33m...\u001b[0m\u001b[1m]\u001b[0m\u001b[1m(\u001b[0m\u001b[4;94mhttps://musicfunhill.com/pop-music/35-best-upbeat-clean-songs-that-make-every-party-come-alive-2024-playlist/\u001b[0m\u001b[4;94m)\u001b[0m\n",
              "The technical aspects balance with thematic elements to create songs suitable for diverse settings from school \n",
              "dances to family gatherings. Professional producers ensure these tracks maintain high-quality standards while \n",
              "staying appropriate for all audiences. \u001b[33m...\u001b[0m Delivers high-energy rock songs like \u001b[32m\"\"\u001b[0mThunder\"\" with clean messaging \n",
              "\u001b[33m...\u001b[0m\n",
              "\n",
              "|\u001b[1;36m40\u001b[0m Best Party Songs | Songs To Dance To, Ranked By Our Editors - Time \n",
              "Out\u001b[1m]\u001b[0m\u001b[1m(\u001b[0m\u001b[4;94mhttps://www.timeout.com/music/best-party-songs\u001b[0m\u001b[4;94m)\u001b[0m\n",
              "The best is when you go for the extended version, and find yourself in the midst of the intro for about \u001b[1;36m11\u001b[0m minutes.\n",
              "But whichever version you go for, this is the party song, in every way. She \u001b[33m...\u001b[0m\n"
            ]
          },
          "metadata": {},
          "output_type": "display_data"
        },
        {
          "data": {
            "text/html": [
              "<pre style=\"white-space:pre;overflow-x:auto;line-height:normal;font-family:Menlo,'DejaVu Sans Mono',consolas,'Courier New',monospace\"><span style=\"color: #7f7f7f; text-decoration-color: #7f7f7f\">[Step 1: Duration 8.81 seconds| Input tokens: 3,393 | Output tokens: 63]</span>\n",
              "</pre>\n"
            ],
            "text/plain": [
              "\u001b[2m[Step 1: Duration 8.81 seconds| Input tokens: 3,393 | Output tokens: 63]\u001b[0m\n"
            ]
          },
          "metadata": {},
          "output_type": "display_data"
        },
        {
          "data": {
            "text/html": [
              "<pre style=\"white-space:pre;overflow-x:auto;line-height:normal;font-family:Menlo,'DejaVu Sans Mono',consolas,'Courier New',monospace\"><span style=\"color: #d4b702; text-decoration-color: #d4b702\">━━━━━━━━━━━━━━━━━━━━━━━━━━━━━━━━━━━━━━━━━━━━━━━━━━━━━ </span><span style=\"font-weight: bold\">Step </span><span style=\"color: #008080; text-decoration-color: #008080; font-weight: bold\">3</span><span style=\"color: #d4b702; text-decoration-color: #d4b702\"> ━━━━━━━━━━━━━━━━━━━━━━━━━━━━━━━━━━━━━━━━━━━━━━━━━━━━━━</span>\n",
              "</pre>\n"
            ],
            "text/plain": [
              "\u001b[38;2;212;183;2m━━━━━━━━━━━━━━━━━━━━━━━━━━━━━━━━━━━━━━━━━━━━━━━━━━━━━ \u001b[0m\u001b[1mStep \u001b[0m\u001b[1;36m3\u001b[0m\u001b[38;2;212;183;2m ━━━━━━━━━━━━━━━━━━━━━━━━━━━━━━━━━━━━━━━━━━━━━━━━━━━━━━\u001b[0m\n"
            ]
          },
          "metadata": {},
          "output_type": "display_data"
        },
        {
          "data": {
            "text/html": [
              "<pre style=\"white-space:pre;overflow-x:auto;line-height:normal;font-family:Menlo,'DejaVu Sans Mono',consolas,'Courier New',monospace\">╭─────────────────────────────────────────────────────────────────────────────────────────────────────────────────╮\n",
              "│ Calling tool: 'web_search' with arguments: {'query': 'recommended party playlist for a mansion setting with     │\n",
              "│ classical and modern tunes'}                                                                                    │\n",
              "╰─────────────────────────────────────────────────────────────────────────────────────────────────────────────────╯\n",
              "</pre>\n"
            ],
            "text/plain": [
              "╭─────────────────────────────────────────────────────────────────────────────────────────────────────────────────╮\n",
              "│ Calling tool: 'web_search' with arguments: {'query': 'recommended party playlist for a mansion setting with     │\n",
              "│ classical and modern tunes'}                                                                                    │\n",
              "╰─────────────────────────────────────────────────────────────────────────────────────────────────────────────────╯\n"
            ]
          },
          "metadata": {},
          "output_type": "display_data"
        },
        {
          "data": {
            "text/html": [
              "<pre style=\"white-space:pre;overflow-x:auto;line-height:normal;font-family:Menlo,'DejaVu Sans Mono',consolas,'Courier New',monospace\">Observations: ## Search Results\n",
              "\n",
              "|<span style=\"color: #008080; text-decoration-color: #008080; font-weight: bold\">200</span> Classic House Party Songs Everyone Knows | The Best <span style=\"color: #808000; text-decoration-color: #808000\">...</span> - \n",
              "iSpyTunes<span style=\"font-weight: bold\">](</span><span style=\"color: #0000ff; text-decoration-color: #0000ff; text-decoration: underline\">https://www.ispytunes.com/post/house-party-songs)</span>\n",
              "\" Branded merchandise adds flair to any occasion, just like the perfect playlist. <span style=\"color: #008080; text-decoration-color: #008080; font-weight: bold\">200</span> classic house party songs \n",
              "everyone knows set the mood, bringing energy to every celebration. The best popular party hits keep guests dancing,\n",
              "creating unforgettable moments. From throwback anthems to modern beats, a great selection ensures nonstop fun.\n",
              "\n",
              "|<span style=\"color: #008080; text-decoration-color: #008080; font-weight: bold\">50</span> Songs on Every Event Planner's Playlist - \n",
              "Eventbrite<span style=\"font-weight: bold\">](</span><span style=\"color: #0000ff; text-decoration-color: #0000ff; text-decoration: underline\">https://www.eventbrite.com/blog/event-planning-playlist-ds00/)</span>\n",
              "Playing non-stop party tunes might be distracting for attendees or potential new clients. Instead, curate a list of\n",
              "songs for corporate events with a mix of genres that keeps guests energized without disturbing the flow. Below is a\n",
              "sample of a music playlist for corporate events: <span style=\"color: #008000; text-decoration-color: #008000\">\"24K Magic\"</span> - Bruno Mars\n",
              "\n",
              "|The <span style=\"color: #008080; text-decoration-color: #008080; font-weight: bold\">75</span> Best Party Songs That Will Get Everyone Dancing - \n",
              "Gear4music<span style=\"font-weight: bold\">](</span><span style=\"color: #0000ff; text-decoration-color: #0000ff; text-decoration: underline\">https://www.gear4music.com/blog/best-party-songs/)</span>\n",
              "The best party songs <span style=\"color: #008080; text-decoration-color: #008080; font-weight: bold\">1</span>. <span style=\"color: #008000; text-decoration-color: #008000\">\"September\"</span> - Earth, Wind &amp; Fire <span style=\"font-weight: bold\">(</span><span style=\"color: #008080; text-decoration-color: #008080; font-weight: bold\">1978</span><span style=\"font-weight: bold\">)</span> Quite possibly the best party song. An infectious \n",
              "mix of funk and soul, <span style=\"color: #008000; text-decoration-color: #008000\">\"September\"</span> is celebrated for its upbeat melody and <span style=\"color: #008000; text-decoration-color: #008000\">\"ba-dee-ya\"</span> chorus, making it a timeless \n",
              "dance favorite.\n",
              "\n",
              "|<span style=\"color: #008080; text-decoration-color: #008080; font-weight: bold\">50</span>+ Best Songs For Your Next Party in <span style=\"color: #008080; text-decoration-color: #008080; font-weight: bold\">2025</span> - Aleka's \n",
              "Get-Together<span style=\"font-weight: bold\">](</span><span style=\"color: #0000ff; text-decoration-color: #0000ff; text-decoration: underline\">https://alekasgettogether.com/top-songs-for-any-party/)</span>\n",
              "Now, let's start making that playlist for your next party! Whether you're planning a How To Host The Best Party At \n",
              "Home or just want to liven up your playlist, we've got you covered with <span style=\"color: #008080; text-decoration-color: #008080; font-weight: bold\">100</span> crowd-pleasing tunes. From timeless \n",
              "classics to modern hits, these songs are guaranteed to keep the energy high and the good times rolling all night \n",
              "long.\n",
              "\n",
              "|Best Songs To Party: DJ's Ultimate Party Songs Playlist - \n",
              "Top40Weekly.com<span style=\"font-weight: bold\">](</span><span style=\"color: #0000ff; text-decoration-color: #0000ff; text-decoration: underline\">https://top40weekly.com/best-songs-to-party/)</span>\n",
              "The pulsating synth-driven melody and electrifying vocals create a vibe of pure joy and celebration, making it a \n",
              "perfect addition to any party playlist. The song's nostalgic yet modern feel creates a sense of familiarity and \n",
              "excitement, bringing people together and fostering an atmosphere of unity and euphoria.\n",
              "\n",
              "|The Best Party Songs of All Time <span style=\"font-weight: bold\">(</span>Our Playlists<span style=\"font-weight: bold\">)](</span><span style=\"color: #0000ff; text-decoration-color: #0000ff; text-decoration: underline\">https://www.ispytunes.com/post/best-party-songs)</span>\n",
              "Discover the best party songs to make your event unforgettable! We have the top party songs, from timeless classics\n",
              "to the latest hits. <span style=\"color: #808000; text-decoration-color: #808000\">...</span> let's explore the best party playlist options and the best party songs of all time! Our \n",
              "Party Music Playlists. <span style=\"color: #808000; text-decoration-color: #808000\">...</span> When you want to set the mood, these tunes are perfect for making memories that everyone\n",
              "<span style=\"color: #808000; text-decoration-color: #808000\">...</span>\n",
              "\n",
              "|Must-Have Playlists for Different Event \n",
              "Types<span style=\"font-weight: bold\">](</span><span style=\"color: #0000ff; text-decoration-color: #0000ff; text-decoration: underline\">https://www.limelightsent.com/must-have-playlists-for-different-event-types/)</span>\n",
              "A playlist for such settings should include a mix of classical music, smooth jazz, and easy-listening tracks. Ideal\n",
              "choices might include: Soft jazz tunes by artists like Miles Davis or John Coltrane for a touch of refinement. \n",
              "Classical pieces such as <span style=\"color: #008000; text-decoration-color: #008000\">\"Clair de Lune\"</span> by Debussy or <span style=\"color: #008000; text-decoration-color: #008000\">\"The Four Seasons\"</span> by Vivaldi add a luxurious ambiance.\n",
              "\n",
              "|<span style=\"color: #008080; text-decoration-color: #008080; font-weight: bold\">40</span> Best Party Songs | Songs To Dance To, Ranked By Our Editors - Time \n",
              "Out<span style=\"font-weight: bold\">](</span><span style=\"color: #0000ff; text-decoration-color: #0000ff; text-decoration: underline\">https://www.timeout.com/music/best-party-songs)</span>\n",
              "Release date: <span style=\"color: #008080; text-decoration-color: #008080; font-weight: bold\">2017</span>. A modern classic house track from the effortlessly cool DJ-producer Yaeji, <span style=\"color: #008000; text-decoration-color: #008000\">'Raingurl'</span> is \n",
              "effectively a loop of infectiously catchy chanting - 'Make it rain girl, make <span style=\"color: #808000; text-decoration-color: #808000\">...</span>\n",
              "\n",
              "|Classical Playlists | The best classical music playlists expertly <span style=\"color: #808000; text-decoration-color: #808000\">...</span><span style=\"font-weight: bold\">](</span><span style=\"color: #0000ff; text-decoration-color: #0000ff; text-decoration: underline\">https://www.classicalplaylists.com/)</span>\n",
              "Looking for music that suits your mood, event or activity? You've come to the right place.\n",
              "\n",
              "|<span style=\"color: #008080; text-decoration-color: #008080; font-weight: bold\">100</span> Best Party Songs: The Ultimate Party Playlist<span style=\"font-weight: bold\">](</span><span style=\"color: #0000ff; text-decoration-color: #0000ff; text-decoration: underline\">https://audiocaptain.com/best-party-songs/)</span>\n",
              "Best 2000s Party Songs. Stylistically speaking, music that dominated the charts in the 2000s was nondescript.. \n",
              "There was not much new regarding musical directions. Club and hip hop dominated the charts while indie acts and \n",
              "some rock groups still had influence.\n",
              "</pre>\n"
            ],
            "text/plain": [
              "Observations: ## Search Results\n",
              "\n",
              "|\u001b[1;36m200\u001b[0m Classic House Party Songs Everyone Knows | The Best \u001b[33m...\u001b[0m - \n",
              "iSpyTunes\u001b[1m]\u001b[0m\u001b[1m(\u001b[0m\u001b[4;94mhttps://www.ispytunes.com/post/house-party-songs\u001b[0m\u001b[4;94m)\u001b[0m\n",
              "\" Branded merchandise adds flair to any occasion, just like the perfect playlist. \u001b[1;36m200\u001b[0m classic house party songs \n",
              "everyone knows set the mood, bringing energy to every celebration. The best popular party hits keep guests dancing,\n",
              "creating unforgettable moments. From throwback anthems to modern beats, a great selection ensures nonstop fun.\n",
              "\n",
              "|\u001b[1;36m50\u001b[0m Songs on Every Event Planner's Playlist - \n",
              "Eventbrite\u001b[1m]\u001b[0m\u001b[1m(\u001b[0m\u001b[4;94mhttps://www.eventbrite.com/blog/event-planning-playlist-ds00/\u001b[0m\u001b[4;94m)\u001b[0m\n",
              "Playing non-stop party tunes might be distracting for attendees or potential new clients. Instead, curate a list of\n",
              "songs for corporate events with a mix of genres that keeps guests energized without disturbing the flow. Below is a\n",
              "sample of a music playlist for corporate events: \u001b[32m\"24K Magic\"\u001b[0m - Bruno Mars\n",
              "\n",
              "|The \u001b[1;36m75\u001b[0m Best Party Songs That Will Get Everyone Dancing - \n",
              "Gear4music\u001b[1m]\u001b[0m\u001b[1m(\u001b[0m\u001b[4;94mhttps://www.gear4music.com/blog/best-party-songs/\u001b[0m\u001b[4;94m)\u001b[0m\n",
              "The best party songs \u001b[1;36m1\u001b[0m. \u001b[32m\"September\"\u001b[0m - Earth, Wind & Fire \u001b[1m(\u001b[0m\u001b[1;36m1978\u001b[0m\u001b[1m)\u001b[0m Quite possibly the best party song. An infectious \n",
              "mix of funk and soul, \u001b[32m\"September\"\u001b[0m is celebrated for its upbeat melody and \u001b[32m\"ba-dee-ya\"\u001b[0m chorus, making it a timeless \n",
              "dance favorite.\n",
              "\n",
              "|\u001b[1;36m50\u001b[0m+ Best Songs For Your Next Party in \u001b[1;36m2025\u001b[0m - Aleka's \n",
              "Get-Together\u001b[1m]\u001b[0m\u001b[1m(\u001b[0m\u001b[4;94mhttps://alekasgettogether.com/top-songs-for-any-party/\u001b[0m\u001b[4;94m)\u001b[0m\n",
              "Now, let's start making that playlist for your next party! Whether you're planning a How To Host The Best Party At \n",
              "Home or just want to liven up your playlist, we've got you covered with \u001b[1;36m100\u001b[0m crowd-pleasing tunes. From timeless \n",
              "classics to modern hits, these songs are guaranteed to keep the energy high and the good times rolling all night \n",
              "long.\n",
              "\n",
              "|Best Songs To Party: DJ's Ultimate Party Songs Playlist - \n",
              "Top40Weekly.com\u001b[1m]\u001b[0m\u001b[1m(\u001b[0m\u001b[4;94mhttps://top40weekly.com/best-songs-to-party/\u001b[0m\u001b[4;94m)\u001b[0m\n",
              "The pulsating synth-driven melody and electrifying vocals create a vibe of pure joy and celebration, making it a \n",
              "perfect addition to any party playlist. The song's nostalgic yet modern feel creates a sense of familiarity and \n",
              "excitement, bringing people together and fostering an atmosphere of unity and euphoria.\n",
              "\n",
              "|The Best Party Songs of All Time \u001b[1m(\u001b[0mOur Playlists\u001b[1m)\u001b[0m\u001b[1m]\u001b[0m\u001b[1m(\u001b[0m\u001b[4;94mhttps://www.ispytunes.com/post/best-party-songs\u001b[0m\u001b[4;94m)\u001b[0m\n",
              "Discover the best party songs to make your event unforgettable! We have the top party songs, from timeless classics\n",
              "to the latest hits. \u001b[33m...\u001b[0m let's explore the best party playlist options and the best party songs of all time! Our \n",
              "Party Music Playlists. \u001b[33m...\u001b[0m When you want to set the mood, these tunes are perfect for making memories that everyone\n",
              "\u001b[33m...\u001b[0m\n",
              "\n",
              "|Must-Have Playlists for Different Event \n",
              "Types\u001b[1m]\u001b[0m\u001b[1m(\u001b[0m\u001b[4;94mhttps://www.limelightsent.com/must-have-playlists-for-different-event-types/\u001b[0m\u001b[4;94m)\u001b[0m\n",
              "A playlist for such settings should include a mix of classical music, smooth jazz, and easy-listening tracks. Ideal\n",
              "choices might include: Soft jazz tunes by artists like Miles Davis or John Coltrane for a touch of refinement. \n",
              "Classical pieces such as \u001b[32m\"Clair de Lune\"\u001b[0m by Debussy or \u001b[32m\"The Four Seasons\"\u001b[0m by Vivaldi add a luxurious ambiance.\n",
              "\n",
              "|\u001b[1;36m40\u001b[0m Best Party Songs | Songs To Dance To, Ranked By Our Editors - Time \n",
              "Out\u001b[1m]\u001b[0m\u001b[1m(\u001b[0m\u001b[4;94mhttps://www.timeout.com/music/best-party-songs\u001b[0m\u001b[4;94m)\u001b[0m\n",
              "Release date: \u001b[1;36m2017\u001b[0m. A modern classic house track from the effortlessly cool DJ-producer Yaeji, \u001b[32m'Raingurl'\u001b[0m is \n",
              "effectively a loop of infectiously catchy chanting - 'Make it rain girl, make \u001b[33m...\u001b[0m\n",
              "\n",
              "|Classical Playlists | The best classical music playlists expertly \u001b[33m...\u001b[0m\u001b[1m]\u001b[0m\u001b[1m(\u001b[0m\u001b[4;94mhttps://www.classicalplaylists.com/\u001b[0m\u001b[4;94m)\u001b[0m\n",
              "Looking for music that suits your mood, event or activity? You've come to the right place.\n",
              "\n",
              "|\u001b[1;36m100\u001b[0m Best Party Songs: The Ultimate Party Playlist\u001b[1m]\u001b[0m\u001b[1m(\u001b[0m\u001b[4;94mhttps://audiocaptain.com/best-party-songs/\u001b[0m\u001b[4;94m)\u001b[0m\n",
              "Best 2000s Party Songs. Stylistically speaking, music that dominated the charts in the 2000s was nondescript.. \n",
              "There was not much new regarding musical directions. Club and hip hop dominated the charts while indie acts and \n",
              "some rock groups still had influence.\n"
            ]
          },
          "metadata": {},
          "output_type": "display_data"
        },
        {
          "data": {
            "text/html": [
              "<pre style=\"white-space:pre;overflow-x:auto;line-height:normal;font-family:Menlo,'DejaVu Sans Mono',consolas,'Courier New',monospace\"><span style=\"color: #7f7f7f; text-decoration-color: #7f7f7f\">[Step 2: Duration 8.24 seconds| Input tokens: 6,734 | Output tokens: 95]</span>\n",
              "</pre>\n"
            ],
            "text/plain": [
              "\u001b[2m[Step 2: Duration 8.24 seconds| Input tokens: 6,734 | Output tokens: 95]\u001b[0m\n"
            ]
          },
          "metadata": {},
          "output_type": "display_data"
        },
        {
          "data": {
            "text/html": [
              "<pre style=\"white-space:pre;overflow-x:auto;line-height:normal;font-family:Menlo,'DejaVu Sans Mono',consolas,'Courier New',monospace\"><span style=\"color: #d4b702; text-decoration-color: #d4b702\">━━━━━━━━━━━━━━━━━━━━━━━━━━━━━━━━━━━━━━━━━━━━━━━━━━━━━ </span><span style=\"font-weight: bold\">Step </span><span style=\"color: #008080; text-decoration-color: #008080; font-weight: bold\">4</span><span style=\"color: #d4b702; text-decoration-color: #d4b702\"> ━━━━━━━━━━━━━━━━━━━━━━━━━━━━━━━━━━━━━━━━━━━━━━━━━━━━━━</span>\n",
              "</pre>\n"
            ],
            "text/plain": [
              "\u001b[38;2;212;183;2m━━━━━━━━━━━━━━━━━━━━━━━━━━━━━━━━━━━━━━━━━━━━━━━━━━━━━ \u001b[0m\u001b[1mStep \u001b[0m\u001b[1;36m4\u001b[0m\u001b[38;2;212;183;2m ━━━━━━━━━━━━━━━━━━━━━━━━━━━━━━━━━━━━━━━━━━━━━━━━━━━━━━\u001b[0m\n"
            ]
          },
          "metadata": {},
          "output_type": "display_data"
        },
        {
          "data": {
            "text/html": [
              "<pre style=\"white-space:pre;overflow-x:auto;line-height:normal;font-family:Menlo,'DejaVu Sans Mono',consolas,'Courier New',monospace\">╭─────────────────────────────────────────────────────────────────────────────────────────────────────────────────╮\n",
              "│ Calling tool: 'web_search' with arguments: {'query': \"top music recommendations for a party at Wayne's mansion  │\n",
              "│ with a mix of classical and modern tunes\"}                                                                      │\n",
              "╰─────────────────────────────────────────────────────────────────────────────────────────────────────────────────╯\n",
              "</pre>\n"
            ],
            "text/plain": [
              "╭─────────────────────────────────────────────────────────────────────────────────────────────────────────────────╮\n",
              "│ Calling tool: 'web_search' with arguments: {'query': \"top music recommendations for a party at Wayne's mansion  │\n",
              "│ with a mix of classical and modern tunes\"}                                                                      │\n",
              "╰─────────────────────────────────────────────────────────────────────────────────────────────────────────────────╯\n"
            ]
          },
          "metadata": {},
          "output_type": "display_data"
        },
        {
          "data": {
            "text/html": [
              "<pre style=\"white-space:pre;overflow-x:auto;line-height:normal;font-family:Menlo,'DejaVu Sans Mono',consolas,'Courier New',monospace\">Observations: ## Search Results\n",
              "\n",
              "|<span style=\"color: #008080; text-decoration-color: #008080; font-weight: bold\">45</span> Songs That Get Your Event Guests on the Dance Floor Every \n",
              "Time<span style=\"font-weight: bold\">](</span><span style=\"color: #0000ff; text-decoration-color: #0000ff; text-decoration: underline\">https://hub.theeventplannerexpo.com/entertainment/35-songs-that-get-your-event-guests-on-the-dance-floor-ever</span>\n",
              "<span style=\"color: #0000ff; text-decoration-color: #0000ff; text-decoration: underline\">y-time)</span>\n",
              "From there, the DJ will amp up the tunes and inspire dancing. Top Songs That Work Every Time. When you work with \n",
              "your event services providers for music before the event, drill down on some of the best dance-floor songs to have \n",
              "on hand for motivating a dance crowd. You'll know your client's event best, including music genre preferences and \n",
              "<span style=\"color: #808000; text-decoration-color: #808000\">...</span>\n",
              "\n",
              "|The <span style=\"color: #008080; text-decoration-color: #008080; font-weight: bold\">75</span> Best Party Songs That Will Get Everyone Dancing - \n",
              "Gear4music<span style=\"font-weight: bold\">](</span><span style=\"color: #0000ff; text-decoration-color: #0000ff; text-decoration: underline\">https://www.gear4music.com/blog/best-party-songs/)</span>\n",
              "The best party songs <span style=\"color: #008080; text-decoration-color: #008080; font-weight: bold\">1</span>. <span style=\"color: #008000; text-decoration-color: #008000\">\"September\"</span> - Earth, Wind &amp; Fire <span style=\"font-weight: bold\">(</span><span style=\"color: #008080; text-decoration-color: #008080; font-weight: bold\">1978</span><span style=\"font-weight: bold\">)</span> Quite possibly the best party song. An infectious \n",
              "mix of funk and soul, <span style=\"color: #008000; text-decoration-color: #008000\">\"September\"</span> is celebrated for its upbeat melody and <span style=\"color: #008000; text-decoration-color: #008000\">\"ba-dee-ya\"</span> chorus, making it a timeless \n",
              "dance favorite.\n",
              "\n",
              "|Best Songs To Party: DJ's Ultimate Party Songs Playlist - \n",
              "Top40Weekly.com<span style=\"font-weight: bold\">](</span><span style=\"color: #0000ff; text-decoration-color: #0000ff; text-decoration: underline\">https://top40weekly.com/best-songs-to-party/)</span>\n",
              "Don't forget the music! We've compiled the best songs to party that are sure to get everyone in the mood to dance \n",
              "and have a good time. <span style=\"color: #808000; text-decoration-color: #808000\">...</span> <span style=\"color: #008000; text-decoration-color: #008000\">\"Get Lucky\"</span> by Daft Punk ft. Pharrell Williams perfectly blends modern dance music and \n",
              "retro vibes that transcends generations. Its groovy bassline, funky guitar riffs, and Pharrell's soulful voice <span style=\"color: #808000; text-decoration-color: #808000\">...</span>\n",
              "\n",
              "|<span style=\"color: #008080; text-decoration-color: #008080; font-weight: bold\">50</span>+ Best Songs For Your Next Party in <span style=\"color: #008080; text-decoration-color: #008080; font-weight: bold\">2025</span> - Aleka's \n",
              "Get-Together<span style=\"font-weight: bold\">](</span><span style=\"color: #0000ff; text-decoration-color: #0000ff; text-decoration: underline\">https://alekasgettogether.com/top-songs-for-any-party/)</span>\n",
              "Whether you're planning a How To Host The Best Party At Home or just want to liven up your playlist, we've got you \n",
              "covered with <span style=\"color: #008080; text-decoration-color: #008080; font-weight: bold\">100</span> crowd-pleasing tunes. From timeless classics to modern hits, these songs are guaranteed to keep \n",
              "the energy high and the good times rolling all night long. <span style=\"color: #008080; text-decoration-color: #008080; font-weight: bold\">50</span> Popular Party Songs. Uptown Funk - Mark Ronson ft <span style=\"color: #808000; text-decoration-color: #808000\">...</span>\n",
              "\n",
              "|<span style=\"color: #008080; text-decoration-color: #008080; font-weight: bold\">200</span> Classic House Party Songs Everyone Knows - iSpyTunes<span style=\"font-weight: bold\">](</span><span style=\"color: #0000ff; text-decoration-color: #0000ff; text-decoration: underline\">https://www.ispytunes.com/post/house-party-songs)</span>\n",
              "\" Branded merchandise adds flair to any occasion, just like the perfect playlist. <span style=\"color: #008080; text-decoration-color: #008080; font-weight: bold\">200</span> classic house party songs \n",
              "everyone knows set the mood, bringing energy to every celebration. The best popular party hits keep guests dancing,\n",
              "creating unforgettable moments. From throwback anthems to modern beats, a great selection ensures nonstop fun.\n",
              "\n",
              "|<span style=\"color: #008080; text-decoration-color: #008080; font-weight: bold\">50</span> Songs on Every Event Planner's Playlist - \n",
              "Eventbrite<span style=\"font-weight: bold\">](</span><span style=\"color: #0000ff; text-decoration-color: #0000ff; text-decoration: underline\">https://www.eventbrite.com/blog/event-planning-playlist-ds00/)</span>\n",
              "Playing non-stop party tunes might be distracting for attendees or potential new clients. Instead, curate a list of\n",
              "songs for corporate events with a mix of genres that keeps guests energized without disturbing the flow. Below is a\n",
              "sample of a music playlist for corporate events: <span style=\"color: #008000; text-decoration-color: #008000\">\"24K Magic\"</span> - Bruno Mars\n",
              "\n",
              "|<span style=\"color: #008080; text-decoration-color: #008080; font-weight: bold\">40</span> Best Party Songs | Songs To Dance To, Ranked By Our Editors - Time \n",
              "Out<span style=\"font-weight: bold\">](</span><span style=\"color: #0000ff; text-decoration-color: #0000ff; text-decoration: underline\">https://www.timeout.com/music/best-party-songs)</span>\n",
              "A modern classic house track from the effortlessly cool DJ-producer Yaeji, <span style=\"color: #008000; text-decoration-color: #008000\">'Raingurl'</span> is effectively a loop of \n",
              "infectiously catchy chanting - 'Make it rain girl, make it rain <span style=\"font-weight: bold\">(</span>mother <span style=\"color: #808000; text-decoration-color: #808000\">...</span>\n",
              "\n",
              "|Top <span style=\"color: #008080; text-decoration-color: #008080; font-weight: bold\">50</span> Dance Floor Bangers Of All Time - DJ Floh Back \n",
              "Productions<span style=\"font-weight: bold\">](</span><span style=\"color: #0000ff; text-decoration-color: #0000ff; text-decoration: underline\">https://flohback.com/top-50-dance-floor-bangers-of-all-time/)</span>\n",
              "<span style=\"color: #008080; text-decoration-color: #008080; font-weight: bold\">16</span>. Gyal You A Party Animal - Charly Black: <span style=\"color: #008000; text-decoration-color: #008000\">\"Coming up as a DJ, this was one of those songs I would always mix in,\"</span>\n",
              "says Alvin. <span style=\"color: #008000; text-decoration-color: #008000\">\"Loved how the crowd would react to it when played, and the overall vibe it created with everyone </span>\n",
              "<span style=\"color: #008000; text-decoration-color: #008000\">dancing and singing to it.\"</span> \"I like to start most parties with this song or something with a similar vibe.\n",
              "\n",
              "|Best Party Playlist: <span style=\"color: #008080; text-decoration-color: #008080; font-weight: bold\">25</span> High-Energy Songs for the Ultimate \n",
              "Celebration<span style=\"font-weight: bold\">](</span><span style=\"color: #0000ff; text-decoration-color: #0000ff; text-decoration: underline\">https://audioassemble.com/best-party-playlist/)</span>\n",
              "Power-Packed Tunes That Ignite the Dance Floor. <span style=\"color: #808000; text-decoration-color: #808000\">...</span> Based on our personal journey with music, this song is an \n",
              "absolute party anthem that deserves a top spot in any ultimate party playlist. This electrifying track combines \n",
              "infectious beats with energetic lyrics, creating an atmosphere of non-stop fun and celebration. <span style=\"color: #808000; text-decoration-color: #808000\">...</span>\n",
              "\n",
              "|Top <span style=\"color: #008080; text-decoration-color: #008080; font-weight: bold\">200</span> Requested DJ Songs - Wedding, Event, Party Bands and DJ in New \n",
              "<span style=\"color: #808000; text-decoration-color: #808000\">...</span><span style=\"font-weight: bold\">](</span><span style=\"color: #0000ff; text-decoration-color: #0000ff; text-decoration: underline\">https://esteemlivemusic.com/2011/01/04/top-200-requested-dj-songs/)</span>\n",
              "Here are some ideas from the top <span style=\"color: #008080; text-decoration-color: #008080; font-weight: bold\">200</span>+ most requested songs from Esteem DJs. <span style=\"color: #808000; text-decoration-color: #808000\">...</span> <span style=\"color: #008080; text-decoration-color: #008080; font-weight: bold\">25</span> Sir Mix-A-Lot Baby Got Back <span style=\"color: #008080; text-decoration-color: #008080; font-weight: bold\">26</span> \n",
              "Beatles Twist And Shout <span style=\"color: #008080; text-decoration-color: #008080; font-weight: bold\">27</span> Jackson, Michael Thriller <span style=\"color: #008080; text-decoration-color: #008080; font-weight: bold\">28</span> Mraz, Jason I'm Yours <span style=\"color: #808000; text-decoration-color: #808000\">...</span> Lil Wayne Down <span style=\"color: #008080; text-decoration-color: #008080; font-weight: bold\">102</span> Madonna Like A\n",
              "Prayer <span style=\"color: #008080; text-decoration-color: #008080; font-weight: bold\">103</span> Beatles All You Need Is Love <span style=\"color: #008080; text-decoration-color: #008080; font-weight: bold\">104</span> Sinatra, Frank Fly Me To The Moon <span style=\"color: #808000; text-decoration-color: #808000\">...</span>\n",
              "</pre>\n"
            ],
            "text/plain": [
              "Observations: ## Search Results\n",
              "\n",
              "|\u001b[1;36m45\u001b[0m Songs That Get Your Event Guests on the Dance Floor Every \n",
              "Time\u001b[1m]\u001b[0m\u001b[1m(\u001b[0m\u001b[4;94mhttps://hub.theeventplannerexpo.com/entertainment/35-songs-that-get-your-event-guests-on-the-dance-floor-ever\u001b[0m\n",
              "\u001b[4;94my-time\u001b[0m\u001b[4;94m)\u001b[0m\n",
              "From there, the DJ will amp up the tunes and inspire dancing. Top Songs That Work Every Time. When you work with \n",
              "your event services providers for music before the event, drill down on some of the best dance-floor songs to have \n",
              "on hand for motivating a dance crowd. You'll know your client's event best, including music genre preferences and \n",
              "\u001b[33m...\u001b[0m\n",
              "\n",
              "|The \u001b[1;36m75\u001b[0m Best Party Songs That Will Get Everyone Dancing - \n",
              "Gear4music\u001b[1m]\u001b[0m\u001b[1m(\u001b[0m\u001b[4;94mhttps://www.gear4music.com/blog/best-party-songs/\u001b[0m\u001b[4;94m)\u001b[0m\n",
              "The best party songs \u001b[1;36m1\u001b[0m. \u001b[32m\"September\"\u001b[0m - Earth, Wind & Fire \u001b[1m(\u001b[0m\u001b[1;36m1978\u001b[0m\u001b[1m)\u001b[0m Quite possibly the best party song. An infectious \n",
              "mix of funk and soul, \u001b[32m\"September\"\u001b[0m is celebrated for its upbeat melody and \u001b[32m\"ba-dee-ya\"\u001b[0m chorus, making it a timeless \n",
              "dance favorite.\n",
              "\n",
              "|Best Songs To Party: DJ's Ultimate Party Songs Playlist - \n",
              "Top40Weekly.com\u001b[1m]\u001b[0m\u001b[1m(\u001b[0m\u001b[4;94mhttps://top40weekly.com/best-songs-to-party/\u001b[0m\u001b[4;94m)\u001b[0m\n",
              "Don't forget the music! We've compiled the best songs to party that are sure to get everyone in the mood to dance \n",
              "and have a good time. \u001b[33m...\u001b[0m \u001b[32m\"Get Lucky\"\u001b[0m by Daft Punk ft. Pharrell Williams perfectly blends modern dance music and \n",
              "retro vibes that transcends generations. Its groovy bassline, funky guitar riffs, and Pharrell's soulful voice \u001b[33m...\u001b[0m\n",
              "\n",
              "|\u001b[1;36m50\u001b[0m+ Best Songs For Your Next Party in \u001b[1;36m2025\u001b[0m - Aleka's \n",
              "Get-Together\u001b[1m]\u001b[0m\u001b[1m(\u001b[0m\u001b[4;94mhttps://alekasgettogether.com/top-songs-for-any-party/\u001b[0m\u001b[4;94m)\u001b[0m\n",
              "Whether you're planning a How To Host The Best Party At Home or just want to liven up your playlist, we've got you \n",
              "covered with \u001b[1;36m100\u001b[0m crowd-pleasing tunes. From timeless classics to modern hits, these songs are guaranteed to keep \n",
              "the energy high and the good times rolling all night long. \u001b[1;36m50\u001b[0m Popular Party Songs. Uptown Funk - Mark Ronson ft \u001b[33m...\u001b[0m\n",
              "\n",
              "|\u001b[1;36m200\u001b[0m Classic House Party Songs Everyone Knows - iSpyTunes\u001b[1m]\u001b[0m\u001b[1m(\u001b[0m\u001b[4;94mhttps://www.ispytunes.com/post/house-party-songs\u001b[0m\u001b[4;94m)\u001b[0m\n",
              "\" Branded merchandise adds flair to any occasion, just like the perfect playlist. \u001b[1;36m200\u001b[0m classic house party songs \n",
              "everyone knows set the mood, bringing energy to every celebration. The best popular party hits keep guests dancing,\n",
              "creating unforgettable moments. From throwback anthems to modern beats, a great selection ensures nonstop fun.\n",
              "\n",
              "|\u001b[1;36m50\u001b[0m Songs on Every Event Planner's Playlist - \n",
              "Eventbrite\u001b[1m]\u001b[0m\u001b[1m(\u001b[0m\u001b[4;94mhttps://www.eventbrite.com/blog/event-planning-playlist-ds00/\u001b[0m\u001b[4;94m)\u001b[0m\n",
              "Playing non-stop party tunes might be distracting for attendees or potential new clients. Instead, curate a list of\n",
              "songs for corporate events with a mix of genres that keeps guests energized without disturbing the flow. Below is a\n",
              "sample of a music playlist for corporate events: \u001b[32m\"24K Magic\"\u001b[0m - Bruno Mars\n",
              "\n",
              "|\u001b[1;36m40\u001b[0m Best Party Songs | Songs To Dance To, Ranked By Our Editors - Time \n",
              "Out\u001b[1m]\u001b[0m\u001b[1m(\u001b[0m\u001b[4;94mhttps://www.timeout.com/music/best-party-songs\u001b[0m\u001b[4;94m)\u001b[0m\n",
              "A modern classic house track from the effortlessly cool DJ-producer Yaeji, \u001b[32m'Raingurl'\u001b[0m is effectively a loop of \n",
              "infectiously catchy chanting - 'Make it rain girl, make it rain \u001b[1m(\u001b[0mmother \u001b[33m...\u001b[0m\n",
              "\n",
              "|Top \u001b[1;36m50\u001b[0m Dance Floor Bangers Of All Time - DJ Floh Back \n",
              "Productions\u001b[1m]\u001b[0m\u001b[1m(\u001b[0m\u001b[4;94mhttps://flohback.com/top-50-dance-floor-bangers-of-all-time/\u001b[0m\u001b[4;94m)\u001b[0m\n",
              "\u001b[1;36m16\u001b[0m. Gyal You A Party Animal - Charly Black: \u001b[32m\"Coming up as a DJ, this was one of those songs I would always mix in,\"\u001b[0m\n",
              "says Alvin. \u001b[32m\"Loved how the crowd would react to it when played, and the overall vibe it created with everyone \u001b[0m\n",
              "\u001b[32mdancing and singing to it.\"\u001b[0m \"I like to start most parties with this song or something with a similar vibe.\n",
              "\n",
              "|Best Party Playlist: \u001b[1;36m25\u001b[0m High-Energy Songs for the Ultimate \n",
              "Celebration\u001b[1m]\u001b[0m\u001b[1m(\u001b[0m\u001b[4;94mhttps://audioassemble.com/best-party-playlist/\u001b[0m\u001b[4;94m)\u001b[0m\n",
              "Power-Packed Tunes That Ignite the Dance Floor. \u001b[33m...\u001b[0m Based on our personal journey with music, this song is an \n",
              "absolute party anthem that deserves a top spot in any ultimate party playlist. This electrifying track combines \n",
              "infectious beats with energetic lyrics, creating an atmosphere of non-stop fun and celebration. \u001b[33m...\u001b[0m\n",
              "\n",
              "|Top \u001b[1;36m200\u001b[0m Requested DJ Songs - Wedding, Event, Party Bands and DJ in New \n",
              "\u001b[33m...\u001b[0m\u001b[1m]\u001b[0m\u001b[1m(\u001b[0m\u001b[4;94mhttps://esteemlivemusic.com/2011/01/04/top-200-requested-dj-songs/\u001b[0m\u001b[4;94m)\u001b[0m\n",
              "Here are some ideas from the top \u001b[1;36m200\u001b[0m+ most requested songs from Esteem DJs. \u001b[33m...\u001b[0m \u001b[1;36m25\u001b[0m Sir Mix-A-Lot Baby Got Back \u001b[1;36m26\u001b[0m \n",
              "Beatles Twist And Shout \u001b[1;36m27\u001b[0m Jackson, Michael Thriller \u001b[1;36m28\u001b[0m Mraz, Jason I'm Yours \u001b[33m...\u001b[0m Lil Wayne Down \u001b[1;36m102\u001b[0m Madonna Like A\n",
              "Prayer \u001b[1;36m103\u001b[0m Beatles All You Need Is Love \u001b[1;36m104\u001b[0m Sinatra, Frank Fly Me To The Moon \u001b[33m...\u001b[0m\n"
            ]
          },
          "metadata": {},
          "output_type": "display_data"
        },
        {
          "data": {
            "text/html": [
              "<pre style=\"white-space:pre;overflow-x:auto;line-height:normal;font-family:Menlo,'DejaVu Sans Mono',consolas,'Courier New',monospace\"><span style=\"color: #7f7f7f; text-decoration-color: #7f7f7f\">[Step 3: Duration 6.10 seconds| Input tokens: 11,058 | Output tokens: 130]</span>\n",
              "</pre>\n"
            ],
            "text/plain": [
              "\u001b[2m[Step 3: Duration 6.10 seconds| Input tokens: 11,058 | Output tokens: 130]\u001b[0m\n"
            ]
          },
          "metadata": {},
          "output_type": "display_data"
        },
        {
          "data": {
            "text/html": [
              "<pre style=\"white-space:pre;overflow-x:auto;line-height:normal;font-family:Menlo,'DejaVu Sans Mono',consolas,'Courier New',monospace\"><span style=\"color: #d4b702; text-decoration-color: #d4b702\">━━━━━━━━━━━━━━━━━━━━━━━━━━━━━━━━━━━━━━━━━━━━━━━━━━━━━ </span><span style=\"font-weight: bold\">Step </span><span style=\"color: #008080; text-decoration-color: #008080; font-weight: bold\">5</span><span style=\"color: #d4b702; text-decoration-color: #d4b702\"> ━━━━━━━━━━━━━━━━━━━━━━━━━━━━━━━━━━━━━━━━━━━━━━━━━━━━━━</span>\n",
              "</pre>\n"
            ],
            "text/plain": [
              "\u001b[38;2;212;183;2m━━━━━━━━━━━━━━━━━━━━━━━━━━━━━━━━━━━━━━━━━━━━━━━━━━━━━ \u001b[0m\u001b[1mStep \u001b[0m\u001b[1;36m5\u001b[0m\u001b[38;2;212;183;2m ━━━━━━━━━━━━━━━━━━━━━━━━━━━━━━━━━━━━━━━━━━━━━━━━━━━━━━\u001b[0m\n"
            ]
          },
          "metadata": {},
          "output_type": "display_data"
        },
        {
          "data": {
            "text/html": [
              "<pre style=\"white-space:pre;overflow-x:auto;line-height:normal;font-family:Menlo,'DejaVu Sans Mono',consolas,'Courier New',monospace\">╭─────────────────────────────────────────────────────────────────────────────────────────────────────────────────╮\n",
              "│ Calling tool: 'web_search' with arguments: {'query': 'top 25 classical music pieces for a mansion party'}       │\n",
              "╰─────────────────────────────────────────────────────────────────────────────────────────────────────────────────╯\n",
              "</pre>\n"
            ],
            "text/plain": [
              "╭─────────────────────────────────────────────────────────────────────────────────────────────────────────────────╮\n",
              "│ Calling tool: 'web_search' with arguments: {'query': 'top 25 classical music pieces for a mansion party'}       │\n",
              "╰─────────────────────────────────────────────────────────────────────────────────────────────────────────────────╯\n"
            ]
          },
          "metadata": {},
          "output_type": "display_data"
        },
        {
          "data": {
            "text/html": [
              "<pre style=\"white-space:pre;overflow-x:auto;line-height:normal;font-family:Menlo,'DejaVu Sans Mono',consolas,'Courier New',monospace\">Observations: ## Search Results\n",
              "\n",
              "|<span style=\"color: #008080; text-decoration-color: #008080; font-weight: bold\">25</span> Most Famous Classical Music Pieces <span style=\"font-weight: bold\">(</span>Classical Songs<span style=\"font-weight: bold\">)</span> - \n",
              "MidderMusic<span style=\"font-weight: bold\">](</span><span style=\"color: #0000ff; text-decoration-color: #0000ff; text-decoration: underline\">https://middermusic.com/most-famous-classical-music/)</span>\n",
              "I've selected a range of timeless classical music pieces that resonate across ages, offering an escape into a world\n",
              "of sublime harmony and profound emotion. This article is an invitation to explore the masterpieces that <span style=\"color: #808000; text-decoration-color: #808000\">...</span> <span style=\"color: #008080; text-decoration-color: #008080; font-weight: bold\">25</span> Most\n",
              "Famous Classical Music Pieces <span style=\"font-weight: bold\">(</span>Classical Songs<span style=\"font-weight: bold\">)</span> Will Fenton. December <span style=\"color: #008080; text-decoration-color: #008080; font-weight: bold\">6</span>, <span style=\"color: #008080; text-decoration-color: #008080; font-weight: bold\">2023</span> . Facebook; X; Pinterest; Linkedin \n",
              "<span style=\"color: #808000; text-decoration-color: #808000\">...</span>\n",
              "\n",
              "|<span style=\"color: #008080; text-decoration-color: #008080; font-weight: bold\">10</span> pieces of classical music everyone should know - Classic \n",
              "FM<span style=\"font-weight: bold\">](</span><span style=\"color: #0000ff; text-decoration-color: #0000ff; text-decoration: underline\">https://www.classicfm.com/discover-music/pieces-classical-music-everyone-know/)</span>\n",
              "Kats-Chernin - Eliza's Aria. This piece began as a charming vocalise from a ballet called Wild Swans by Australian \n",
              "composer Elena Kats-Chernin, but you might know it better as the song used in a <span style=\"color: #008080; text-decoration-color: #008080; font-weight: bold\">2007</span> Lloyd bank advert.Three years \n",
              "later, PRS for Music revealed it as the third most performed piece of music in UK television advertising.\n",
              "\n",
              "|The <span style=\"color: #008080; text-decoration-color: #008080; font-weight: bold\">15</span> most famous tunes in classical music - Classic \n",
              "FM<span style=\"font-weight: bold\">](</span><span style=\"color: #0000ff; text-decoration-color: #0000ff; text-decoration: underline\">https://www.classicfm.com/discover-music/famous-classical-music-tunes/)</span>\n",
              "Read more: <span style=\"color: #008080; text-decoration-color: #008080; font-weight: bold\">30</span> of the greatest classical music composers of all time Mozart - Eine kleine Nachtmusik. The official \n",
              "name of this piece is the Serenade No. <span style=\"color: #008080; text-decoration-color: #008080; font-weight: bold\">13</span> for strings in G major, and it was composed by Wolfgang Amadeus Mozart in\n",
              "<span style=\"color: #008080; text-decoration-color: #008080; font-weight: bold\">1787</span>. Mozart himself gave the piece its nickname, when he jotted this name down in the log book he kept detailing \n",
              "all the music he wrote.\n",
              "\n",
              "|The <span style=\"color: #008080; text-decoration-color: #008080; font-weight: bold\">100</span> Most Well-Known Pieces of Classical \n",
              "Music<span style=\"font-weight: bold\">](</span><span style=\"color: #0000ff; text-decoration-color: #0000ff; text-decoration: underline\">https://ithy.com/article/top-100-famous-classical-music-pieces-h8env1d0)</span>\n",
              "Explore the <span style=\"color: #008080; text-decoration-color: #008080; font-weight: bold\">100</span> most well-known classical music pieces, spanning Baroque to Modern eras. A curated guide to \n",
              "timeless masterpieces that inspire and move audiences worldwide.\n",
              "\n",
              "|Classical Party: Happy, festive and lively classical music to \n",
              "entertain<span style=\"font-weight: bold\">](</span><span style=\"color: #0000ff; text-decoration-color: #0000ff; text-decoration: underline\">https://www.yourclassical.org/story/2023/04/04/curated-playlist-party)</span>\n",
              "<span style=\"color: #00ff00; text-decoration-color: #00ff00; font-weight: bold\">17:25</span> Engelbert Humperdinck Sleeping Beauty: Festival Sounds Slovak Radio Symphony Orchestra Martin \n",
              "Fischer-Dieskau, conductor. <span style=\"color: #00ff00; text-decoration-color: #00ff00; font-weight: bold\">19:34</span> Bedrich Smetana Minuet in B-flat major Slovak Radio Symphony Orchestra Robert \n",
              "Stankovsky, conductor. <span style=\"color: #00ff00; text-decoration-color: #00ff00; font-weight: bold\">21:46</span> John Philip Sousa People Who Live in Glass Houses: II. The Rhine Wines Razumovsky \n",
              "Symphony Orchestra Keith Brion, conductor. <span style=\"color: #00ff00; text-decoration-color: #00ff00; font-weight: bold\">24:51</span> Camille Saint-Saens <span style=\"color: #808000; text-decoration-color: #808000\">...</span>\n",
              "\n",
              "|<span style=\"color: #008080; text-decoration-color: #008080; font-weight: bold\">30</span> beautiful pieces of classical music for your wedding \n",
              "ceremony<span style=\"font-weight: bold\">](</span><span style=\"color: #0000ff; text-decoration-color: #0000ff; text-decoration: underline\">https://www.classicfm.com/discover-music/best-classical-wedding-music/)</span>\n",
              "Here are some pieces that have stood the test of time, peppered with a few more recent favourites, to help make the\n",
              "music on your special day as memorable and well-rehearsed as the speeches. Read more: Singer's surprise marriage \n",
              "proposal brings the house down at San Francisco Opera's Tosca. Music before the ceremony. <span style=\"color: #008080; text-decoration-color: #008080; font-weight: bold\">1</span>. Bach - Wachet Auf\n",
              "\n",
              "|Musical Bucket List: <span style=\"color: #008080; text-decoration-color: #008080; font-weight: bold\">50</span> Classical Pieces to Hear Before You \n",
              "Die<span style=\"font-weight: bold\">](</span><span style=\"color: #0000ff; text-decoration-color: #0000ff; text-decoration: underline\">https://www.listchallenges.com/musical-bucket-list-50-classical-pieces-to)</span>\n",
              "Give these classical music pieces a listen while you still can! <span style=\"color: #008080; text-decoration-color: #008080; font-weight: bold\">102</span> users · <span style=\"color: #008080; text-decoration-color: #008080; font-weight: bold\">1</span>,<span style=\"color: #008080; text-decoration-color: #008080; font-weight: bold\">660</span> views from ocregister.com. avg. \n",
              "score: <span style=\"color: #008080; text-decoration-color: #008080; font-weight: bold\">17</span> of <span style=\"color: #008080; text-decoration-color: #008080; font-weight: bold\">50</span> <span style=\"font-weight: bold\">(</span><span style=\"color: #008080; text-decoration-color: #008080; font-weight: bold\">34</span>%<span style=\"font-weight: bold\">)</span> required scores: <span style=\"color: #008080; text-decoration-color: #008080; font-weight: bold\">1</span>, <span style=\"color: #008080; text-decoration-color: #008080; font-weight: bold\">2</span>, <span style=\"color: #008080; text-decoration-color: #008080; font-weight: bold\">10</span>, <span style=\"color: #008080; text-decoration-color: #008080; font-weight: bold\">19</span>, <span style=\"color: #008080; text-decoration-color: #008080; font-weight: bold\">30</span> <span style=\"color: #808000; text-decoration-color: #808000\">...</span> <span style=\"color: #008080; text-decoration-color: #008080; font-weight: bold\">25</span>. The Ring of the Nibelung <span style=\"color: #008080; text-decoration-color: #008080; font-weight: bold\">26</span>. Liszt: Piano Sonata in\n",
              "B Minor <span style=\"color: #808000; text-decoration-color: #808000\">...</span> VB's Top <span style=\"color: #008080; text-decoration-color: #008080; font-weight: bold\">450</span> Songs. <span style=\"color: #008080; text-decoration-color: #008080; font-weight: bold\">150</span> <span style=\"color: #008080; text-decoration-color: #008080; font-weight: bold\">450</span> Load More Other Lists <span style=\"color: #808000; text-decoration-color: #808000\">...</span>\n",
              "\n",
              "|The <span style=\"color: #008080; text-decoration-color: #008080; font-weight: bold\">50</span> Greatest Pieces of Classical Music - \n",
              "Wikipedia<span style=\"font-weight: bold\">](</span><span style=\"color: #0000ff; text-decoration-color: #0000ff; text-decoration: underline\">https://en.wikipedia.org/wiki/The_50_Greatest_Pieces_of_Classical_Music)</span>\n",
              "The <span style=\"color: #008080; text-decoration-color: #008080; font-weight: bold\">50</span> Greatest Pieces of Classical Music is a compilation of classical works recorded by the London Philharmonic \n",
              "Orchestra with conductor David Parry. |<span style=\"color: #008080; text-decoration-color: #008080; font-weight: bold\">2</span><span style=\"font-weight: bold\">]</span> Recorded at Abbey Road Studios, Royal Festival Hall and Henry Wood Hall \n",
              "in London, the compilation was released in digital formats in November, <span style=\"color: #008080; text-decoration-color: #008080; font-weight: bold\">2009</span> and as a <span style=\"color: #008080; text-decoration-color: #008080; font-weight: bold\">4</span>-CD set in <span style=\"color: #008080; text-decoration-color: #008080; font-weight: bold\">2011</span>. |<span style=\"color: #008080; text-decoration-color: #008080; font-weight: bold\">3</span><span style=\"font-weight: bold\">]</span> The <span style=\"color: #008080; text-decoration-color: #008080; font-weight: bold\">50</span> \n",
              "Greatest Pieces of Classical Music has sold over <span style=\"color: #808000; text-decoration-color: #808000\">...</span>\n",
              "\n",
              "|Top <span style=\"color: #008080; text-decoration-color: #008080; font-weight: bold\">100</span> | The Classical Station<span style=\"font-weight: bold\">](</span><span style=\"color: #0000ff; text-decoration-color: #0000ff; text-decoration: underline\">https://theclassicalstation.org/playlists/8463-2/)</span>\n",
              "These are the pieces that you have chosen as the most popular here on The Classical Station.You will hear them \n",
              "played throughout the week. Request your favorite work on All Request Friday and the Saturday Evening Request \n",
              "Program.. Beethoven: Symphony No. <span style=\"color: #008080; text-decoration-color: #008080; font-weight: bold\">9</span> in D minor, Op. <span style=\"color: #008080; text-decoration-color: #008080; font-weight: bold\">125</span> <span style=\"color: #008000; text-decoration-color: #008000\">\"Choral\"</span> Dvorak: Symphony No. <span style=\"color: #008080; text-decoration-color: #008080; font-weight: bold\">9</span> in E minor, Op. <span style=\"color: #008080; text-decoration-color: #008080; font-weight: bold\">95</span> <span style=\"color: #008000; text-decoration-color: #008000\">\"From </span>\n",
              "<span style=\"color: #008000; text-decoration-color: #008000\">the New World\"</span>\n",
              "\n",
              "|<span style=\"color: #008080; text-decoration-color: #008080; font-weight: bold\">65</span> Classical Wedding Music Pieces for Your Ceremony - The \n",
              "Knot<span style=\"font-weight: bold\">](</span><span style=\"color: #0000ff; text-decoration-color: #0000ff; text-decoration: underline\">https://www.theknot.com/content/unique-classical-music-pieces-for-ceremony-procession)</span>\n",
              "Contemporary Classical Wedding Music. If you're looking for newer classical music to play at your wedding, give \n",
              "these contemporary pieces a listen. The following works were composed from the late 20th century to the present \n",
              "day, so you may hear influences from other genres within these picks, too. <span style=\"color: #008080; text-decoration-color: #008080; font-weight: bold\">46</span>. <span style=\"color: #008000; text-decoration-color: #008000\">\"Nuvole Bianche\"</span> by Ludovico Einaudi\n",
              "<span style=\"color: #008080; text-decoration-color: #008080; font-weight: bold\">47</span>.\n",
              "</pre>\n"
            ],
            "text/plain": [
              "Observations: ## Search Results\n",
              "\n",
              "|\u001b[1;36m25\u001b[0m Most Famous Classical Music Pieces \u001b[1m(\u001b[0mClassical Songs\u001b[1m)\u001b[0m - \n",
              "MidderMusic\u001b[1m]\u001b[0m\u001b[1m(\u001b[0m\u001b[4;94mhttps://middermusic.com/most-famous-classical-music/\u001b[0m\u001b[4;94m)\u001b[0m\n",
              "I've selected a range of timeless classical music pieces that resonate across ages, offering an escape into a world\n",
              "of sublime harmony and profound emotion. This article is an invitation to explore the masterpieces that \u001b[33m...\u001b[0m \u001b[1;36m25\u001b[0m Most\n",
              "Famous Classical Music Pieces \u001b[1m(\u001b[0mClassical Songs\u001b[1m)\u001b[0m Will Fenton. December \u001b[1;36m6\u001b[0m, \u001b[1;36m2023\u001b[0m . Facebook; X; Pinterest; Linkedin \n",
              "\u001b[33m...\u001b[0m\n",
              "\n",
              "|\u001b[1;36m10\u001b[0m pieces of classical music everyone should know - Classic \n",
              "FM\u001b[1m]\u001b[0m\u001b[1m(\u001b[0m\u001b[4;94mhttps://www.classicfm.com/discover-music/pieces-classical-music-everyone-know/\u001b[0m\u001b[4;94m)\u001b[0m\n",
              "Kats-Chernin - Eliza's Aria. This piece began as a charming vocalise from a ballet called Wild Swans by Australian \n",
              "composer Elena Kats-Chernin, but you might know it better as the song used in a \u001b[1;36m2007\u001b[0m Lloyd bank advert.Three years \n",
              "later, PRS for Music revealed it as the third most performed piece of music in UK television advertising.\n",
              "\n",
              "|The \u001b[1;36m15\u001b[0m most famous tunes in classical music - Classic \n",
              "FM\u001b[1m]\u001b[0m\u001b[1m(\u001b[0m\u001b[4;94mhttps://www.classicfm.com/discover-music/famous-classical-music-tunes/\u001b[0m\u001b[4;94m)\u001b[0m\n",
              "Read more: \u001b[1;36m30\u001b[0m of the greatest classical music composers of all time Mozart - Eine kleine Nachtmusik. The official \n",
              "name of this piece is the Serenade No. \u001b[1;36m13\u001b[0m for strings in G major, and it was composed by Wolfgang Amadeus Mozart in\n",
              "\u001b[1;36m1787\u001b[0m. Mozart himself gave the piece its nickname, when he jotted this name down in the log book he kept detailing \n",
              "all the music he wrote.\n",
              "\n",
              "|The \u001b[1;36m100\u001b[0m Most Well-Known Pieces of Classical \n",
              "Music\u001b[1m]\u001b[0m\u001b[1m(\u001b[0m\u001b[4;94mhttps://ithy.com/article/top-100-famous-classical-music-pieces-h8env1d0\u001b[0m\u001b[4;94m)\u001b[0m\n",
              "Explore the \u001b[1;36m100\u001b[0m most well-known classical music pieces, spanning Baroque to Modern eras. A curated guide to \n",
              "timeless masterpieces that inspire and move audiences worldwide.\n",
              "\n",
              "|Classical Party: Happy, festive and lively classical music to \n",
              "entertain\u001b[1m]\u001b[0m\u001b[1m(\u001b[0m\u001b[4;94mhttps://www.yourclassical.org/story/2023/04/04/curated-playlist-party\u001b[0m\u001b[4;94m)\u001b[0m\n",
              "\u001b[1;92m17:25\u001b[0m Engelbert Humperdinck Sleeping Beauty: Festival Sounds Slovak Radio Symphony Orchestra Martin \n",
              "Fischer-Dieskau, conductor. \u001b[1;92m19:34\u001b[0m Bedrich Smetana Minuet in B-flat major Slovak Radio Symphony Orchestra Robert \n",
              "Stankovsky, conductor. \u001b[1;92m21:46\u001b[0m John Philip Sousa People Who Live in Glass Houses: II. The Rhine Wines Razumovsky \n",
              "Symphony Orchestra Keith Brion, conductor. \u001b[1;92m24:51\u001b[0m Camille Saint-Saens \u001b[33m...\u001b[0m\n",
              "\n",
              "|\u001b[1;36m30\u001b[0m beautiful pieces of classical music for your wedding \n",
              "ceremony\u001b[1m]\u001b[0m\u001b[1m(\u001b[0m\u001b[4;94mhttps://www.classicfm.com/discover-music/best-classical-wedding-music/\u001b[0m\u001b[4;94m)\u001b[0m\n",
              "Here are some pieces that have stood the test of time, peppered with a few more recent favourites, to help make the\n",
              "music on your special day as memorable and well-rehearsed as the speeches. Read more: Singer's surprise marriage \n",
              "proposal brings the house down at San Francisco Opera's Tosca. Music before the ceremony. \u001b[1;36m1\u001b[0m. Bach - Wachet Auf\n",
              "\n",
              "|Musical Bucket List: \u001b[1;36m50\u001b[0m Classical Pieces to Hear Before You \n",
              "Die\u001b[1m]\u001b[0m\u001b[1m(\u001b[0m\u001b[4;94mhttps://www.listchallenges.com/musical-bucket-list-50-classical-pieces-to\u001b[0m\u001b[4;94m)\u001b[0m\n",
              "Give these classical music pieces a listen while you still can! \u001b[1;36m102\u001b[0m users · \u001b[1;36m1\u001b[0m,\u001b[1;36m660\u001b[0m views from ocregister.com. avg. \n",
              "score: \u001b[1;36m17\u001b[0m of \u001b[1;36m50\u001b[0m \u001b[1m(\u001b[0m\u001b[1;36m34\u001b[0m%\u001b[1m)\u001b[0m required scores: \u001b[1;36m1\u001b[0m, \u001b[1;36m2\u001b[0m, \u001b[1;36m10\u001b[0m, \u001b[1;36m19\u001b[0m, \u001b[1;36m30\u001b[0m \u001b[33m...\u001b[0m \u001b[1;36m25\u001b[0m. The Ring of the Nibelung \u001b[1;36m26\u001b[0m. Liszt: Piano Sonata in\n",
              "B Minor \u001b[33m...\u001b[0m VB's Top \u001b[1;36m450\u001b[0m Songs. \u001b[1;36m150\u001b[0m \u001b[1;36m450\u001b[0m Load More Other Lists \u001b[33m...\u001b[0m\n",
              "\n",
              "|The \u001b[1;36m50\u001b[0m Greatest Pieces of Classical Music - \n",
              "Wikipedia\u001b[1m]\u001b[0m\u001b[1m(\u001b[0m\u001b[4;94mhttps://en.wikipedia.org/wiki/The_50_Greatest_Pieces_of_Classical_Music\u001b[0m\u001b[4;94m)\u001b[0m\n",
              "The \u001b[1;36m50\u001b[0m Greatest Pieces of Classical Music is a compilation of classical works recorded by the London Philharmonic \n",
              "Orchestra with conductor David Parry. |\u001b[1;36m2\u001b[0m\u001b[1m]\u001b[0m Recorded at Abbey Road Studios, Royal Festival Hall and Henry Wood Hall \n",
              "in London, the compilation was released in digital formats in November, \u001b[1;36m2009\u001b[0m and as a \u001b[1;36m4\u001b[0m-CD set in \u001b[1;36m2011\u001b[0m. |\u001b[1;36m3\u001b[0m\u001b[1m]\u001b[0m The \u001b[1;36m50\u001b[0m \n",
              "Greatest Pieces of Classical Music has sold over \u001b[33m...\u001b[0m\n",
              "\n",
              "|Top \u001b[1;36m100\u001b[0m | The Classical Station\u001b[1m]\u001b[0m\u001b[1m(\u001b[0m\u001b[4;94mhttps://theclassicalstation.org/playlists/8463-2/\u001b[0m\u001b[4;94m)\u001b[0m\n",
              "These are the pieces that you have chosen as the most popular here on The Classical Station.You will hear them \n",
              "played throughout the week. Request your favorite work on All Request Friday and the Saturday Evening Request \n",
              "Program.. Beethoven: Symphony No. \u001b[1;36m9\u001b[0m in D minor, Op. \u001b[1;36m125\u001b[0m \u001b[32m\"Choral\"\u001b[0m Dvorak: Symphony No. \u001b[1;36m9\u001b[0m in E minor, Op. \u001b[1;36m95\u001b[0m \u001b[32m\"From \u001b[0m\n",
              "\u001b[32mthe New World\"\u001b[0m\n",
              "\n",
              "|\u001b[1;36m65\u001b[0m Classical Wedding Music Pieces for Your Ceremony - The \n",
              "Knot\u001b[1m]\u001b[0m\u001b[1m(\u001b[0m\u001b[4;94mhttps://www.theknot.com/content/unique-classical-music-pieces-for-ceremony-procession\u001b[0m\u001b[4;94m)\u001b[0m\n",
              "Contemporary Classical Wedding Music. If you're looking for newer classical music to play at your wedding, give \n",
              "these contemporary pieces a listen. The following works were composed from the late 20th century to the present \n",
              "day, so you may hear influences from other genres within these picks, too. \u001b[1;36m46\u001b[0m. \u001b[32m\"Nuvole Bianche\"\u001b[0m by Ludovico Einaudi\n",
              "\u001b[1;36m47\u001b[0m.\n"
            ]
          },
          "metadata": {},
          "output_type": "display_data"
        },
        {
          "data": {
            "text/html": [
              "<pre style=\"white-space:pre;overflow-x:auto;line-height:normal;font-family:Menlo,'DejaVu Sans Mono',consolas,'Courier New',monospace\"><span style=\"color: #7f7f7f; text-decoration-color: #7f7f7f\">[Step 4: Duration 13.89 seconds| Input tokens: 16,525 | Output tokens: 161]</span>\n",
              "</pre>\n"
            ],
            "text/plain": [
              "\u001b[2m[Step 4: Duration 13.89 seconds| Input tokens: 16,525 | Output tokens: 161]\u001b[0m\n"
            ]
          },
          "metadata": {},
          "output_type": "display_data"
        },
        {
          "data": {
            "text/html": [
              "<pre style=\"white-space:pre;overflow-x:auto;line-height:normal;font-family:Menlo,'DejaVu Sans Mono',consolas,'Courier New',monospace\"><span style=\"color: #d4b702; text-decoration-color: #d4b702\">━━━━━━━━━━━━━━━━━━━━━━━━━━━━━━━━━━━━━━━━━━━━━━━━━━━━━ </span><span style=\"font-weight: bold\">Step </span><span style=\"color: #008080; text-decoration-color: #008080; font-weight: bold\">6</span><span style=\"color: #d4b702; text-decoration-color: #d4b702\"> ━━━━━━━━━━━━━━━━━━━━━━━━━━━━━━━━━━━━━━━━━━━━━━━━━━━━━━</span>\n",
              "</pre>\n"
            ],
            "text/plain": [
              "\u001b[38;2;212;183;2m━━━━━━━━━━━━━━━━━━━━━━━━━━━━━━━━━━━━━━━━━━━━━━━━━━━━━ \u001b[0m\u001b[1mStep \u001b[0m\u001b[1;36m6\u001b[0m\u001b[38;2;212;183;2m ━━━━━━━━━━━━━━━━━━━━━━━━━━━━━━━━━━━━━━━━━━━━━━━━━━━━━━\u001b[0m\n"
            ]
          },
          "metadata": {},
          "output_type": "display_data"
        },
        {
          "data": {
            "text/html": [
              "<pre style=\"white-space:pre;overflow-x:auto;line-height:normal;font-family:Menlo,'DejaVu Sans Mono',consolas,'Courier New',monospace\">╭─────────────────────────────────────────────────────────────────────────────────────────────────────────────────╮\n",
              "│ Calling tool: 'final_answer' with arguments: {'answer': \"Based on the searches conducted, here is a recommended │\n",
              "│ playlist for a party at Wayne's mansion blending classical and modern tunes:\\\\nClassical Music:\\\\n1. Mozart -   │\n",
              "│ Eine kleine Nachtmusik (Serenade No. 13 for strings)\\\\n2. John Philip Sousa - The Stars and Stripes Forever     │\n",
              "│ March \\\\n3. Camille Saint-Saëns - The Carnival of the Animals \\\\n4. Engelbert Humperdinck - Sleeping Beauty:    │\n",
              "│ Festival Sounds \\\\n5. Bedřich Smetana - Minuet in B-flat major \\\\n6. Ludwig van Beethoven - Symphony No. 9 in D │\n",
              "│ minor, Fourth Movement (“Ode to Joy”)\\\\n7. Pyotr Ilyich Tchaikovsky - Piano Concerto No. 1 in B-flat minor, Op. │\n",
              "│ 23 \\\\nModern Music:\\\\n8. Daft Punk - Get Lucky (ft. Pharrell Williams)\\\\n9. Mark Ronson ft. Bruno Mars - Uptown │\n",
              "│ Funk \\\\n10. Sasha Sultana - Mansion (featuring Jess Glynne)\\\\n11. Charly Black - Gyal You A Party Animal \\\\n12. │\n",
              "│ DJ Snake &amp; Lil Wayne - Bangarang (feat. Skrillex &amp; Sirah)\\\\n13. Calvin Harris - How Deep Is Your Love \\\\n14.    │\n",
              "│ Icona Pop - I Love It (feat. Charli XCX)\\\\\"}                                                                    │\n",
              "╰─────────────────────────────────────────────────────────────────────────────────────────────────────────────────╯\n",
              "</pre>\n"
            ],
            "text/plain": [
              "╭─────────────────────────────────────────────────────────────────────────────────────────────────────────────────╮\n",
              "│ Calling tool: 'final_answer' with arguments: {'answer': \"Based on the searches conducted, here is a recommended │\n",
              "│ playlist for a party at Wayne's mansion blending classical and modern tunes:\\\\nClassical Music:\\\\n1. Mozart -   │\n",
              "│ Eine kleine Nachtmusik (Serenade No. 13 for strings)\\\\n2. John Philip Sousa - The Stars and Stripes Forever     │\n",
              "│ March \\\\n3. Camille Saint-Saëns - The Carnival of the Animals \\\\n4. Engelbert Humperdinck - Sleeping Beauty:    │\n",
              "│ Festival Sounds \\\\n5. Bedřich Smetana - Minuet in B-flat major \\\\n6. Ludwig van Beethoven - Symphony No. 9 in D │\n",
              "│ minor, Fourth Movement (“Ode to Joy”)\\\\n7. Pyotr Ilyich Tchaikovsky - Piano Concerto No. 1 in B-flat minor, Op. │\n",
              "│ 23 \\\\nModern Music:\\\\n8. Daft Punk - Get Lucky (ft. Pharrell Williams)\\\\n9. Mark Ronson ft. Bruno Mars - Uptown │\n",
              "│ Funk \\\\n10. Sasha Sultana - Mansion (featuring Jess Glynne)\\\\n11. Charly Black - Gyal You A Party Animal \\\\n12. │\n",
              "│ DJ Snake & Lil Wayne - Bangarang (feat. Skrillex & Sirah)\\\\n13. Calvin Harris - How Deep Is Your Love \\\\n14.    │\n",
              "│ Icona Pop - I Love It (feat. Charli XCX)\\\\\"}                                                                    │\n",
              "╰─────────────────────────────────────────────────────────────────────────────────────────────────────────────────╯\n"
            ]
          },
          "metadata": {},
          "output_type": "display_data"
        },
        {
          "data": {
            "text/html": [
              "<pre style=\"white-space:pre;overflow-x:auto;line-height:normal;font-family:Menlo,'DejaVu Sans Mono',consolas,'Courier New',monospace\"><span style=\"color: #d4b702; text-decoration-color: #d4b702; font-weight: bold\">Final answer: Based on the searches conducted, here is a recommended playlist for a party at Wayne's mansion </span>\n",
              "<span style=\"color: #d4b702; text-decoration-color: #d4b702; font-weight: bold\">blending classical and modern tunes:\\nClassical Music:\\n1. Mozart - Eine kleine Nachtmusik (Serenade No. 13 for </span>\n",
              "<span style=\"color: #d4b702; text-decoration-color: #d4b702; font-weight: bold\">strings)\\n2. John Philip Sousa - The Stars and Stripes Forever March \\n3. Camille Saint-Saëns - The Carnival of the</span>\n",
              "<span style=\"color: #d4b702; text-decoration-color: #d4b702; font-weight: bold\">Animals \\n4. Engelbert Humperdinck - Sleeping Beauty: Festival Sounds \\n5. Bedřich Smetana - Minuet in B-flat major</span>\n",
              "<span style=\"color: #d4b702; text-decoration-color: #d4b702; font-weight: bold\">\\n6. Ludwig van Beethoven - Symphony No. 9 in D minor, Fourth Movement (“Ode to Joy”)\\n7. Pyotr Ilyich Tchaikovsky </span>\n",
              "<span style=\"color: #d4b702; text-decoration-color: #d4b702; font-weight: bold\">- Piano Concerto No. 1 in B-flat minor, Op. 23 \\nModern Music:\\n8. Daft Punk - Get Lucky (ft. Pharrell </span>\n",
              "<span style=\"color: #d4b702; text-decoration-color: #d4b702; font-weight: bold\">Williams)\\n9. Mark Ronson ft. Bruno Mars - Uptown Funk \\n10. Sasha Sultana - Mansion (featuring Jess Glynne)\\n11. </span>\n",
              "<span style=\"color: #d4b702; text-decoration-color: #d4b702; font-weight: bold\">Charly Black - Gyal You A Party Animal \\n12. DJ Snake &amp; Lil Wayne - Bangarang (feat. Skrillex &amp; Sirah)\\n13. Calvin </span>\n",
              "<span style=\"color: #d4b702; text-decoration-color: #d4b702; font-weight: bold\">Harris - How Deep Is Your Love \\n14. Icona Pop - I Love It (feat. Charli XCX)\\</span>\n",
              "</pre>\n"
            ],
            "text/plain": [
              "\u001b[1;38;2;212;183;2mFinal answer: Based on the searches conducted, here is a recommended playlist for a party at Wayne's mansion \u001b[0m\n",
              "\u001b[1;38;2;212;183;2mblending classical and modern tunes:\\nClassical Music:\\n1. Mozart - Eine kleine Nachtmusik (Serenade No. 13 for \u001b[0m\n",
              "\u001b[1;38;2;212;183;2mstrings)\\n2. John Philip Sousa - The Stars and Stripes Forever March \\n3. Camille Saint-Saëns - The Carnival of the\u001b[0m\n",
              "\u001b[1;38;2;212;183;2mAnimals \\n4. Engelbert Humperdinck - Sleeping Beauty: Festival Sounds \\n5. Bedřich Smetana - Minuet in B-flat major\u001b[0m\n",
              "\u001b[1;38;2;212;183;2m\\n6. Ludwig van Beethoven - Symphony No. 9 in D minor, Fourth Movement (“Ode to Joy”)\\n7. Pyotr Ilyich Tchaikovsky \u001b[0m\n",
              "\u001b[1;38;2;212;183;2m- Piano Concerto No. 1 in B-flat minor, Op. 23 \\nModern Music:\\n8. Daft Punk - Get Lucky (ft. Pharrell \u001b[0m\n",
              "\u001b[1;38;2;212;183;2mWilliams)\\n9. Mark Ronson ft. Bruno Mars - Uptown Funk \\n10. Sasha Sultana - Mansion (featuring Jess Glynne)\\n11. \u001b[0m\n",
              "\u001b[1;38;2;212;183;2mCharly Black - Gyal You A Party Animal \\n12. DJ Snake & Lil Wayne - Bangarang (feat. Skrillex & Sirah)\\n13. Calvin \u001b[0m\n",
              "\u001b[1;38;2;212;183;2mHarris - How Deep Is Your Love \\n14. Icona Pop - I Love It (feat. Charli XCX)\\\u001b[0m\n"
            ]
          },
          "metadata": {},
          "output_type": "display_data"
        },
        {
          "data": {
            "text/html": [
              "<pre style=\"white-space:pre;overflow-x:auto;line-height:normal;font-family:Menlo,'DejaVu Sans Mono',consolas,'Courier New',monospace\"><span style=\"color: #7f7f7f; text-decoration-color: #7f7f7f\">[Step 5: Duration 23.09 seconds| Input tokens: 23,258 | Output tokens: 483]</span>\n",
              "</pre>\n"
            ],
            "text/plain": [
              "\u001b[2m[Step 5: Duration 23.09 seconds| Input tokens: 23,258 | Output tokens: 483]\u001b[0m\n"
            ]
          },
          "metadata": {},
          "output_type": "display_data"
        },
        {
          "data": {
            "text/plain": [
              "\"Based on the searches conducted, here is a recommended playlist for a party at Wayne's mansion blending classical and modern tunes:\\\\nClassical Music:\\\\n1. Mozart - Eine kleine Nachtmusik (Serenade No. 13 for strings)\\\\n2. John Philip Sousa - The Stars and Stripes Forever March \\\\n3. Camille Saint-Saëns - The Carnival of the Animals \\\\n4. Engelbert Humperdinck - Sleeping Beauty: Festival Sounds \\\\n5. Bedřich Smetana - Minuet in B-flat major \\\\n6. Ludwig van Beethoven - Symphony No. 9 in D minor, Fourth Movement (“Ode to Joy”)\\\\n7. Pyotr Ilyich Tchaikovsky - Piano Concerto No. 1 in B-flat minor, Op. 23 \\\\nModern Music:\\\\n8. Daft Punk - Get Lucky (ft. Pharrell Williams)\\\\n9. Mark Ronson ft. Bruno Mars - Uptown Funk \\\\n10. Sasha Sultana - Mansion (featuring Jess Glynne)\\\\n11. Charly Black - Gyal You A Party Animal \\\\n12. DJ Snake & Lil Wayne - Bangarang (feat. Skrillex & Sirah)\\\\n13. Calvin Harris - How Deep Is Your Love \\\\n14. Icona Pop - I Love It (feat. Charli XCX)\\\\\""
            ]
          },
          "execution_count": 2,
          "metadata": {},
          "output_type": "execute_result"
        }
      ],
      "source": [
        "from smolagents import ToolCallingAgent, DuckDuckGoSearchTool, HfApiModel\n",
        "\n",
        "agent = ToolCallingAgent(tools=[DuckDuckGoSearchTool()], model=HfApiModel())\n",
        "\n",
        "agent.run(\"Search for the best music recommendations for a party at the Wayne's mansion.\")"
      ]
    },
    {
      "cell_type": "markdown",
      "metadata": {
        "id": "Cl19VWGRYXrr"
      },
      "source": [
        "\n",
        "When you examine the agent's trace, instead of seeing `Executing parsed code:`, you'll see something like:\n",
        "\n",
        "```text\n",
        "╭─────────────────────────────────────────────────────────────────────────────────────────────────────────────────╮\n",
        "│ Calling tool: 'web_search' with arguments: {'query': \"best music recommendations for a party at Wayne's         │\n",
        "│ mansion\"}                                                                                                       │\n",
        "╰─────────────────────────────────────────────────────────────────────────────────────────────────────────────────╯\n",
        "```  \n",
        "\n",
        "The agent generates a structured tool call that the system processes to produce the output, rather than directly executing code like a `CodeAgent`.\n",
        "\n",
        "Now that we understand both agent types, we can choose the right one for our needs. Let's continue exploring `smolagents` to make Alfred's party a success! 🎉"
      ]
    }
  ],
  "metadata": {
    "colab": {
      "provenance": []
    },
    "kernelspec": {
      "display_name": ".venv",
      "language": "python",
      "name": "python3"
    },
    "language_info": {
      "codemirror_mode": {
        "name": "ipython",
        "version": 3
      },
      "file_extension": ".py",
      "mimetype": "text/x-python",
      "name": "python",
      "nbconvert_exporter": "python",
      "pygments_lexer": "ipython3",
      "version": "3.11.11"
    }
  },
  "nbformat": 4,
  "nbformat_minor": 0
}
